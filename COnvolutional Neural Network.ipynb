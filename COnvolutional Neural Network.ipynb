{
 "cells": [
  {
   "cell_type": "code",
   "execution_count": null,
   "metadata": {},
   "outputs": [],
   "source": [
    "#to initialize neural netwok there are 2 ways\n",
    "#1. Sequential        2. Graph\n",
    "\n",
    "from keras.models import Sequential\n",
    "from keras.layers import Convolution2D  #convolution\n",
    "from keras.layers import MaxPooling2D  \n",
    "from keras.layers import Flatten\n",
    "from keras.layers import Dense"
   ]
  },
  {
   "cell_type": "code",
   "execution_count": null,
   "metadata": {},
   "outputs": [],
   "source": [
    "classifier=Sequential()"
   ]
  },
  {
   "cell_type": "code",
   "execution_count": null,
   "metadata": {},
   "outputs": [],
   "source": [
    "#nb_filter -no of filters to use\n",
    "#nb_row---no of row in filter           ---para of Convolution2D\n",
    "#nb_col---no of column in filter\n",
    "#input_shape=(64,64)   size of convolued img  3 is bgr format   1 for black&white\n",
    "\n",
    "classifier.add(Convolution2D(32,3,3,input_shape=(64,64,3),activation='relu'))\n"
   ]
  },
  {
   "cell_type": "code",
   "execution_count": null,
   "metadata": {},
   "outputs": [],
   "source": [
    "#pooling is done to reduce no of feature in flattening\n",
    "\n",
    "classifier.add(MaxPooling2D(pool_size=(2,2)))\n",
    "\n",
    "####ADDING NEW CONV AND POOL LAYER\n",
    "classifier.add(Convolution2D(32,3,3,activation='relu'))\n",
    "classifier.add(MaxPooling2D(pool_size=(2,2)))\n"
   ]
  },
  {
   "cell_type": "code",
   "execution_count": null,
   "metadata": {},
   "outputs": [],
   "source": [
    "classifier.add(Flatten())"
   ]
  },
  {
   "cell_type": "code",
   "execution_count": null,
   "metadata": {},
   "outputs": [],
   "source": [
    "classifier.add(Dense(output_dim=128,activation='relu' ))\n",
    "classifier.add(Dense(output_dim=1,activation='sigmoid' ))\n",
    "#either cat or dog"
   ]
  },
  {
   "cell_type": "code",
   "execution_count": null,
   "metadata": {},
   "outputs": [],
   "source": [
    "'''\n",
    "we have only defined neural network ie weight has been initialized\n",
    "through this we update the optimal weight\n",
    "o/p has 2 category   loss function is 'binay_crossentropy'\n",
    "o/p has more than 2 category   loss function is 'categorial_crossentropy'\n",
    "'''\n",
    "classifier.compile(optimizer='adam',loss='binary_crossentropy',metrics=['accuracy'])"
   ]
  },
  {
   "cell_type": "code",
   "execution_count": null,
   "metadata": {},
   "outputs": [],
   "source": [
    "#Image preprocessing to prevent overfitting---  argumentation process \n",
    "#open keras documentation\n",
    "\n",
    "from keras.preprocessing.image import ImageDataGenerator"
   ]
  },
  {
   "cell_type": "code",
   "execution_count": null,
   "metadata": {},
   "outputs": [],
   "source": [
    "train_datagen = ImageDataGenerator(\n",
    "        rescale=1./255,\n",
    "        shear_range=0.2,\n",
    "        zoom_range=0.2,\n",
    "        horizontal_flip=True)\n",
    "\n"
   ]
  },
  {
   "cell_type": "code",
   "execution_count": null,
   "metadata": {},
   "outputs": [],
   "source": [
    "test_datagen = ImageDataGenerator(rescale=1./255)\n",
    "\n"
   ]
  },
  {
   "cell_type": "code",
   "execution_count": null,
   "metadata": {},
   "outputs": [],
   "source": [
    "training_set = train_datagen.flow_from_directory(\n",
    "        r'C:\\Users\\Sarthak\\Downloads\\Compressed\\Convolutional_Neural_Networks\\Convolutional_Neural_Networks\\dataset\\training_set',\n",
    "        target_size=(64,64),\n",
    "        batch_size=32,\n",
    "        class_mode='binary')\n",
    "\n"
   ]
  },
  {
   "cell_type": "code",
   "execution_count": null,
   "metadata": {},
   "outputs": [],
   "source": [
    "test_set = test_datagen.flow_from_directory(\n",
    "        r'C:\\Users\\Sarthak\\Downloads\\Compressed\\Convolutional_Neural_Networks\\Convolutional_Neural_Networks\\dataset\\test_set',\n",
    "        target_size=(64,64),\n",
    "        batch_size=32, \n",
    "        class_mode='binary')\n"
   ]
  },
  {
   "cell_type": "code",
   "execution_count": null,
   "metadata": {},
   "outputs": [
    {
     "name": "stdout",
     "output_type": "stream",
     "text": [
      "7999/8000 [============================>.] - ETA: 0s - loss: 0.0150 - acc: 0.9951"
     ]
    }
   ],
   "source": [
    "\n",
    "classifier.fit_generator(\n",
    "        training_set,\n",
    "        steps_per_epoch=8000,\n",
    "        epochs=25,\n",
    "        validation_data=test_set,\n",
    "        validation_steps=2000)    "
   ]
  },
  {
   "cell_type": "code",
   "execution_count": null,
   "metadata": {},
   "outputs": [],
   "source": [
    "import numpy as np\n",
    "from keras.preprocessing import image\n",
    "test_image=image.load_img(r'C:\\Users\\Sarthak\\Downloads\\Compressed\\Convolutional_Neural_Networks\\Convolutional_Neural_Networks\\dataset\\single_prediction\\cat_or_dog_1.jppg',target_size=(64,64))\n",
    "#to convert 64*64  to 64*64*3\n",
    "test_image=image.img_to_array(test_image)\n",
    "# to add extra dimension\n",
    "test_image = np.expand_dims(test_image,axis=0)\n",
    "result=classifier.predict()\n",
    "training_set.class_indices\n",
    "if result[0][0]==1:\n",
    "    prediction='dog'\n",
    "else:\n",
    "    prediction='cat'"
   ]
  }
 ],
 "metadata": {
  "kernelspec": {
   "display_name": "Python 3",
   "language": "python",
   "name": "python3"
  },
  "language_info": {
   "codemirror_mode": {
    "name": "ipython",
    "version": 3
   },
   "file_extension": ".py",
   "mimetype": "text/x-python",
   "name": "python",
   "nbconvert_exporter": "python",
   "pygments_lexer": "ipython3",
   "version": "3.6.7"
  }
 },
 "nbformat": 4,
 "nbformat_minor": 2
}
