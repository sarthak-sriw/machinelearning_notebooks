{
 "cells": [
  {
   "cell_type": "code",
   "execution_count": 3,
   "metadata": {},
   "outputs": [],
   "source": [
    "import numpy as np\n",
    "import matplotlib.pyplot as plt\n",
    "import pandas as pd\n",
    "from sklearn.cluster import KMeans"
   ]
  },
  {
   "cell_type": "code",
   "execution_count": 4,
   "metadata": {},
   "outputs": [],
   "source": [
    "x=np.array([[1,2],[1.5,1.8],[5,8],[8,8],[1,0.6],[9,11]])"
   ]
  },
  {
   "cell_type": "code",
   "execution_count": 5,
   "metadata": {},
   "outputs": [
    {
     "data": {
      "text/plain": [
       "array([1. , 1.5, 5. , 8. , 1. , 9. ])"
      ]
     },
     "execution_count": 5,
     "metadata": {},
     "output_type": "execute_result"
    }
   ],
   "source": [
    "x[:,0]"
   ]
  },
  {
   "cell_type": "code",
   "execution_count": 7,
   "metadata": {},
   "outputs": [
    {
     "data": {
      "text/plain": [
       "<matplotlib.collections.PathCollection at 0x1bb8290bb70>"
      ]
     },
     "execution_count": 7,
     "metadata": {},
     "output_type": "execute_result"
    },
    {
     "data": {
      "image/png": "[encoded data removed]",
      "text/plain": [
       "<Figure size 432x288 with 1 Axes>"
      ]
     },
     "metadata": {
      "needs_background": "light"
     },
     "output_type": "display_data"
    }
   ],
   "source": [
    "plt.scatter(x[:,0],x[:,1],s=150)"
   ]
  },
  {
   "cell_type": "code",
   "execution_count": 8,
   "metadata": {},
   "outputs": [],
   "source": [
    "plt.show()"
   ]
  },
  {
   "cell_type": "code",
   "execution_count": 9,
   "metadata": {},
   "outputs": [
    {
     "data": {
      "text/plain": [
       "KMeans(algorithm='auto', copy_x=True, init='k-means++', max_iter=300,\n",
       "    n_clusters=2, n_init=10, n_jobs=1, precompute_distances='auto',\n",
       "    random_state=None, tol=0.0001, verbose=0)"
      ]
     },
     "execution_count": 9,
     "metadata": {},
     "output_type": "execute_result"
    }
   ],
   "source": [
    "clf=KMeans(n_clusters=2)\n",
    "clf.fit(x)"
   ]
  },
  {
   "cell_type": "code",
   "execution_count": 12,
   "metadata": {},
   "outputs": [
    {
     "name": "stdout",
     "output_type": "stream",
     "text": [
      "[[1.16666667 1.46666667]\n",
      " [7.33333333 9.        ]]\n"
     ]
    }
   ],
   "source": [
    "centroids= clf.cluster_centers_\n",
    "print(centroids)"
   ]
  },
  {
   "cell_type": "code",
   "execution_count": 13,
   "metadata": {},
   "outputs": [
    {
     "name": "stdout",
     "output_type": "stream",
     "text": [
      "[0 0 1 1 0 1]\n"
     ]
    }
   ],
   "source": [
    "labels=clf.labels_\n",
    "print(labels)"
   ]
  },
  {
   "cell_type": "code",
   "execution_count": 14,
   "metadata": {},
   "outputs": [],
   "source": [
    "colors=10*['g.','r.','c.','b.','k.']\n"
   ]
  },
  {
   "cell_type": "code",
   "execution_count": 37,
   "metadata": {},
   "outputs": [
    {
     "data": {
      "text/plain": [
       "<matplotlib.collections.PathCollection at 0x1bb82df40b8>"
      ]
     },
     "execution_count": 37,
     "metadata": {},
     "output_type": "execute_result"
    },
    {
     "data": {
      "image/png": "[encoded data removed]",
      "text/plain": [
       "<Figure size 432x288 with 1 Axes>"
      ]
     },
     "metadata": {
      "needs_background": "light"
     },
     "output_type": "display_data"
    }
   ],
   "source": [
    "for i in range(len(x)):\n",
    "    plt.plot(x[i][0],x[i][1],colors[labels[i]])\n",
    "plt.scatter(centroids[:,0],centroids[:,1],marker='x',s=150)"
   ]
  },
  {
   "cell_type": "code",
   "execution_count": 38,
   "metadata": {},
   "outputs": [],
   "source": [
    "plt.show()"
   ]
  },
  {
   "cell_type": "code",
   "execution_count": 40,
   "metadata": {},
   "outputs": [
    {
     "data": {
      "text/html": [
       "<div>\n",
       "<style scoped>\n",
       "    .dataframe tbody tr th:only-of-type {\n",
       "        vertical-align: middle;\n",
       "    }\n",
       "\n",
       "    .dataframe tbody tr th {\n",
       "        vertical-align: top;\n",
       "    }\n",
       "\n",
       "    .dataframe thead th {\n",
       "        text-align: right;\n",
       "    }\n",
       "</style>\n",
       "<table border=\"1\" class=\"dataframe\">\n",
       "  <thead>\n",
       "    <tr style=\"text-align: right;\">\n",
       "      <th></th>\n",
       "      <th>pclass</th>\n",
       "      <th>survived</th>\n",
       "      <th>name</th>\n",
       "      <th>sex</th>\n",
       "      <th>age</th>\n",
       "      <th>sibsp</th>\n",
       "      <th>parch</th>\n",
       "      <th>ticket</th>\n",
       "      <th>fare</th>\n",
       "      <th>cabin</th>\n",
       "      <th>embarked</th>\n",
       "      <th>boat</th>\n",
       "      <th>body</th>\n",
       "      <th>home.dest</th>\n",
       "    </tr>\n",
       "  </thead>\n",
       "  <tbody>\n",
       "    <tr>\n",
       "      <th>0</th>\n",
       "      <td>1</td>\n",
       "      <td>1</td>\n",
       "      <td>Allen, Miss. Elisabeth Walton</td>\n",
       "      <td>female</td>\n",
       "      <td>29.0000</td>\n",
       "      <td>0</td>\n",
       "      <td>0</td>\n",
       "      <td>24160</td>\n",
       "      <td>211.3375</td>\n",
       "      <td>B5</td>\n",
       "      <td>S</td>\n",
       "      <td>2</td>\n",
       "      <td>NaN</td>\n",
       "      <td>St Louis, MO</td>\n",
       "    </tr>\n",
       "    <tr>\n",
       "      <th>1</th>\n",
       "      <td>1</td>\n",
       "      <td>1</td>\n",
       "      <td>Allison, Master. Hudson Trevor</td>\n",
       "      <td>male</td>\n",
       "      <td>0.9167</td>\n",
       "      <td>1</td>\n",
       "      <td>2</td>\n",
       "      <td>113781</td>\n",
       "      <td>151.5500</td>\n",
       "      <td>C22 C26</td>\n",
       "      <td>S</td>\n",
       "      <td>11</td>\n",
       "      <td>NaN</td>\n",
       "      <td>Montreal, PQ / Chesterville, ON</td>\n",
       "    </tr>\n",
       "    <tr>\n",
       "      <th>2</th>\n",
       "      <td>1</td>\n",
       "      <td>0</td>\n",
       "      <td>Allison, Miss. Helen Loraine</td>\n",
       "      <td>female</td>\n",
       "      <td>2.0000</td>\n",
       "      <td>1</td>\n",
       "      <td>2</td>\n",
       "      <td>113781</td>\n",
       "      <td>151.5500</td>\n",
       "      <td>C22 C26</td>\n",
       "      <td>S</td>\n",
       "      <td>NaN</td>\n",
       "      <td>NaN</td>\n",
       "      <td>Montreal, PQ / Chesterville, ON</td>\n",
       "    </tr>\n",
       "    <tr>\n",
       "      <th>3</th>\n",
       "      <td>1</td>\n",
       "      <td>0</td>\n",
       "      <td>Allison, Mr. Hudson Joshua Creighton</td>\n",
       "      <td>male</td>\n",
       "      <td>30.0000</td>\n",
       "      <td>1</td>\n",
       "      <td>2</td>\n",
       "      <td>113781</td>\n",
       "      <td>151.5500</td>\n",
       "      <td>C22 C26</td>\n",
       "      <td>S</td>\n",
       "      <td>NaN</td>\n",
       "      <td>135.0</td>\n",
       "      <td>Montreal, PQ / Chesterville, ON</td>\n",
       "    </tr>\n",
       "    <tr>\n",
       "      <th>4</th>\n",
       "      <td>1</td>\n",
       "      <td>0</td>\n",
       "      <td>Allison, Mrs. Hudson J C (Bessie Waldo Daniels)</td>\n",
       "      <td>female</td>\n",
       "      <td>25.0000</td>\n",
       "      <td>1</td>\n",
       "      <td>2</td>\n",
       "      <td>113781</td>\n",
       "      <td>151.5500</td>\n",
       "      <td>C22 C26</td>\n",
       "      <td>S</td>\n",
       "      <td>NaN</td>\n",
       "      <td>NaN</td>\n",
       "      <td>Montreal, PQ / Chesterville, ON</td>\n",
       "    </tr>\n",
       "  </tbody>\n",
       "</table>\n",
       "</div>"
      ],
      "text/plain": [
       "   pclass  survived                                             name     sex  \\\n",
       "0       1         1                    Allen, Miss. Elisabeth Walton  female   \n",
       "1       1         1                   Allison, Master. Hudson Trevor    male   \n",
       "2       1         0                     Allison, Miss. Helen Loraine  female   \n",
       "3       1         0             Allison, Mr. Hudson Joshua Creighton    male   \n",
       "4       1         0  Allison, Mrs. Hudson J C (Bessie Waldo Daniels)  female   \n",
       "\n",
       "       age  sibsp  parch  ticket      fare    cabin embarked boat   body  \\\n",
       "0  29.0000      0      0   24160  211.3375       B5        S    2    NaN   \n",
       "1   0.9167      1      2  113781  151.5500  C22 C26        S   11    NaN   \n",
       "2   2.0000      1      2  113781  151.5500  C22 C26        S  NaN    NaN   \n",
       "3  30.0000      1      2  113781  151.5500  C22 C26        S  NaN  135.0   \n",
       "4  25.0000      1      2  113781  151.5500  C22 C26        S  NaN    NaN   \n",
       "\n",
       "                         home.dest  \n",
       "0                     St Louis, MO  \n",
       "1  Montreal, PQ / Chesterville, ON  \n",
       "2  Montreal, PQ / Chesterville, ON  \n",
       "3  Montreal, PQ / Chesterville, ON  \n",
       "4  Montreal, PQ / Chesterville, ON  "
      ]
     },
     "execution_count": 40,
     "metadata": {},
     "output_type": "execute_result"
    }
   ],
   "source": [
    "df=pd.read_excel(r'D:\\csvfile\\titanic3.xls')\n",
    "df.head()"
   ]
  },
  {
   "cell_type": "code",
   "execution_count": 41,
   "metadata": {},
   "outputs": [],
   "source": [
    "df.drop(['name','body'],axis=1,inplace=True)\n"
   ]
  },
  {
   "cell_type": "code",
   "execution_count": 42,
   "metadata": {},
   "outputs": [
    {
     "data": {
      "text/plain": [
       "array(['St Louis, MO', 'Montreal, PQ / Chesterville, ON', 'New York, NY',\n",
       "       'Hudson, NY', 'Belfast, NI', 'Bayside, Queens, NY',\n",
       "       'Montevideo, Uruguay', 'Paris, France', nan, 'Hessle, Yorks',\n",
       "       'Montreal, PQ', 'Winnipeg, MN', 'San Francisco, CA',\n",
       "       'Dowagiac, MI', 'Stockholm, Sweden / Washington, DC',\n",
       "       'Trenton, NJ', 'Glen Ridge, NJ', 'Youngstown, OH',\n",
       "       'Birkdale, England Cleveland, Ohio', 'London / Winnipeg, MB',\n",
       "       'Cooperstown, NY', 'St Leonards-on-Sea, England Ohio',\n",
       "       'Los Angeles, CA', 'Pomeroy, WA', 'Omaha, NE', 'Philadelphia, PA',\n",
       "       'Denver, CO', 'Belmont, MA', 'Washington, DC',\n",
       "       'Austria-Hungary / Germantown, Philadelphia, PA',\n",
       "       'Germantown, Philadelphia, PA', 'Bryn Mawr, PA',\n",
       "       'Ascot, Berkshire / Rochester, NY', 'Little Onn Hall, Staffs',\n",
       "       'Amenia, ND', 'New York, NY / Ithaca, NY', 'London, England',\n",
       "       'Liverpool, England / Belfast', 'Stoughton, MA', 'Victoria, BC',\n",
       "       'Lakewood, NJ', 'Roachdale, IN', 'Milwaukee, WI', 'Lima, Peru',\n",
       "       'Calgary, AB', 'Deephaven, MN / Cedar Rapids, IA',\n",
       "       'London / Paris', 'Mt Airy, Philadelphia, PA', 'Brookline, MA',\n",
       "       'Brooklyn, NY', 'Winnipeg, MB', 'Westcliff-on-Sea, Essex',\n",
       "       'Zurich, Switzerland', 'Scituate, MA',\n",
       "       \"St Anne's-on-Sea, Lancashire\", 'Paris, France / New York, NY',\n",
       "       'Greenwich, CT', 'Kingston, Surrey', 'London / Middlesex',\n",
       "       'Brighton, MA', 'London / Birmingham', 'Chicago, IL',\n",
       "       'Indianapolis, IN', 'New York, NY /  Stamford CT',\n",
       "       'Paris, France New York, NY', 'Liverpool', 'Bennington, VT',\n",
       "       'London', 'Buffalo, NY', 'Southington / Noank, CT', 'Boston, MA',\n",
       "       'Portland, OR', 'Stockholm, Sweden', 'Springfield, MA',\n",
       "       'London / New York, NY', 'Brockton, MA', 'Belgium  Montreal, PQ',\n",
       "       'Vancouver, BC', 'Dorchester, MA', 'East Bridgewater, MA',\n",
       "       'Fond du Lac, WI', 'Green Bay, WI', 'Lexington, MA',\n",
       "       'Isle of Wight, England', 'Providence, RI', '?Havana, Cuba',\n",
       "       'Belfast', 'Surbiton Hill, Surrey', 'Isleworth, England',\n",
       "       'Madrid, Spain', 'Toronto, ON', 'Worcester, MA',\n",
       "       'Rotterdam, Netherlands', 'Paris /  New York, NY', 'Seattle, WA',\n",
       "       'London  Vancouver, BC', 'Haverford, PA / Cooperstown, NY',\n",
       "       'Manchester, England', 'New York, NY / Greenwich CT', 'Duluth, MN',\n",
       "       'Basel, Switzerland', 'New Britain, CT',\n",
       "       'St James, Long Island, NY', 'Huntington, WV', 'Streatham, Surrey',\n",
       "       'Minneapolis, MN', 'Tuxedo Park, NY',\n",
       "       'Wimbledon Park, London / Hayling Island, Hants', 'Newark, NJ',\n",
       "       'Haverford, PA', 'Gallipolis, Ohio / ? Paris / New York',\n",
       "       'Cincinatti, OH', 'Haddenfield, NJ', 'London /  East Orange, NJ',\n",
       "       'Albany, NY', 'Mexico City, Mexico', 'East Orange, NJ',\n",
       "       'England Salt Lake City, Utah', 'Brunswick, ME',\n",
       "       'New York, NY / Briarcliff Manor NY', 'Elkins Park, PA',\n",
       "       'Geneva, Switzerland / Radnor, PA', 'Halifax, NS',\n",
       "       'New York, NY / Washington, DC', 'Russia New York, NY',\n",
       "       'Bryn Mawr, PA, USA', 'Buenos Aires, Argentina / New Jersey, NJ',\n",
       "       'Cornwall, England Houghton, MI', 'Warwick, England',\n",
       "       'West Hoboken, NJ', 'Penzance, Cornwall / Akron, OH', 'Guernsey',\n",
       "       'Bristol, Avon / Jacksonville, FL',\n",
       "       'Plymouth, Dorset / Houghton, MI', 'Jacksonville, FL',\n",
       "       'Norwich / New York, NY', 'England',\n",
       "       'Guntur, India / Benton Harbour, MI', 'Rochester, NY',\n",
       "       'St Ives, Cornwall / Calumet, MI', 'Elmira, NY / Orange, NJ',\n",
       "       'Lake Arthur, Chavez County, NM', 'London / Montreal, PQ',\n",
       "       'Cape Town, South Africa / Seattle, WA',\n",
       "       'Skara, Sweden / Rockford, IL',\n",
       "       'Sittingbourne, England / San Diego, CA', 'Southsea, Hants',\n",
       "       'Bangkok, Thailand / Roseville, IL', 'Mamaroneck, NY', 'Bronx, NY',\n",
       "       'Cornwall / Spokane, WA', 'England / San Francisco, CA',\n",
       "       'Hartford, Huntingdonshire', 'Helsinki, Finland Ashtabula, Ohio',\n",
       "       'London / Fort Byron, NY',\n",
       "       'Bishopstoke, Hants / Fayette Valley, ID', 'Pennsylvania',\n",
       "       'Provo, UT', 'Upper Burma, India Pittsburgh, PA',\n",
       "       'St Ives, Cornwall / Hancock, MI', 'Lyndhurst, England',\n",
       "       'London / Staten Island, NY', 'Portugal / Sau Paulo, Brazil',\n",
       "       'Lucca, Italy / California', 'Guernsey / Elizabeth, NJ',\n",
       "       'New Forest, England', 'Southampton', 'Holley, NY',\n",
       "       'Greenport, NY', 'Barcelona, Spain / Havana, Cuba',\n",
       "       'England / Detroit, MI', 'Goteborg, Sweden / Rockford, IL',\n",
       "       'Oslo, Norway Bayonne, NJ', 'England / Philadelphia, PA',\n",
       "       'Cornwall / Houghton, MI', 'Janjgir, India / Pennsylvania',\n",
       "       'Liverpool / Montreal, PQ', 'Cornwall / Clear Creek, CO',\n",
       "       'Cornwall', 'Cornwall / Camden, NJ', 'West Kensington, London',\n",
       "       'Clevedon, England', 'Auburn, NY', 'Detroit, MI',\n",
       "       'Seattle, WA / Toledo, OH', 'Denmark Hill, Surrey / Chicago',\n",
       "       'Walthamstow, England', 'Ilford, Essex / Winnipeg, MB',\n",
       "       'Somerset / Bernardsville, NJ', 'India / Rapid City, SD',\n",
       "       'West Hampstead, London / Neepawa, MB',\n",
       "       'Kontiolahti, Finland / Detroit, MI', 'Cornwall / Akron, OH',\n",
       "       'Devonport, England', 'England / Sacramento, CA', 'Tokyo, Japan',\n",
       "       'Swindon, England', 'North Evington, England',\n",
       "       'St Ives, Cornwall / Houghton, MI', 'Moscow / Bronx, NY',\n",
       "       'India / Pittsburgh, PA', 'Harrisburg, PA', 'Glasgow / Bangor, ME',\n",
       "       'Sweden / Arlington, NJ', 'Paris / Haiti',\n",
       "       'Berne, Switzerland / Central City, IA', 'London / Chicago, IL',\n",
       "       'Weston-Super-Mare, Somerset', 'Southampton / New York, NY',\n",
       "       'Paris', 'Paris / Montreal, PQ', 'St Austall, Cornwall',\n",
       "       'Weston-Super-Mare / Moose Jaw, SK', 'Sydney, Australia',\n",
       "       'Sarnia, ON', 'England / Bennington, VT', 'Chelsea, London',\n",
       "       'Harrow-on-the-Hill, Middlesex', 'Copenhagen, Denmark',\n",
       "       'Guernsey / Montclair, NJ and/or Toledo, Ohio', 'Frankfort, KY',\n",
       "       'Halesworth, England', 'Cambridge, MA', 'Nice, France',\n",
       "       'Cornwall / Hancock, MI', 'Glasgow', 'Cologne, Germany',\n",
       "       'Folkstone, Kent / New York, NY', 'Middleburg Heights, OH',\n",
       "       'Pondersend, England / New Durham, NJ', 'Spain / Havana, Cuba',\n",
       "       'Hamilton, ON', 'St Andrews, Guernsey', 'Woodford County, KY',\n",
       "       'Gunnislake, England / Butte, MT', 'Ilfracombe, Devon',\n",
       "       'Worcester, England', 'Russia', 'Denmark / New York, NY',\n",
       "       'Milford, NH', 'Plymouth, Devon / Detroit, MI', 'Brighton, Sussex',\n",
       "       'Elizabeth, NJ', 'Spain',\n",
       "       'London, England / Marietta, Ohio and Milwaukee, WI',\n",
       "       'Guernsey / Wilmington, DE', 'Hornsey, England', 'Deer Lodge, MT',\n",
       "       'Finland / Minneapolis, MN', 'Finland / Washington, DC',\n",
       "       'Sault St Marie, ON', 'Catford, Kent / Detroit, MI',\n",
       "       'Columbus, OH', 'Bath, England / Massachusetts',\n",
       "       'Plymouth, England', 'Barre, Co Washington, VT',\n",
       "       'Bristol, England / New Britain, CT', 'Aberdeen / Portland, OR',\n",
       "       'England / Hartford, CT', 'Bromsgrove, England / Montreal, PQ',\n",
       "       'Bournmouth, England', 'Guernsey, England / Edgewood, RI',\n",
       "       'Harrow, England', 'Yoevil, England / Cottage Grove, OR',\n",
       "       'East Providence, RI', 'Norway Los Angeles, CA',\n",
       "       'Perkins County, SD', 'Taalintehdas, Finland Hoboken, NJ',\n",
       "       'Greensburg, PA', 'Asarum, Sweden Brooklyn, NY',\n",
       "       'Bournemouth, England', 'Sweden Akeley, MN',\n",
       "       'London, England Norfolk, VA', 'Syria Fredericksburg, VA',\n",
       "       'England Albion, NY', 'Salo, Finland Astoria, OR', 'Argentina',\n",
       "       'Lower Clapton, Middlesex or Erdington, Birmingham',\n",
       "       'Windsor, England New York, NY', 'Bergen, Norway',\n",
       "       'Sweden Winnipeg, MN', 'Ruotsinphyhtaa, Finland New York, NY',\n",
       "       'Vadsbro, Sweden Ministee, MI', 'Hartford, CT',\n",
       "       'Sweden Chicago, IL', 'Bulgaria Chicago, IL',\n",
       "       'Altdorf, Switzerland', 'Sweden Joliet, IL',\n",
       "       'Sweden  Worcester, MA', 'Sweden Worcester, MA',\n",
       "       'Oskarshamn, Sweden Minneapolis, MN', 'Ottawa, ON',\n",
       "       'Krakoryd, Sweden Bloomington, IL', 'Syria Youngstown, OH',\n",
       "       'Ruotsinphytaa, Finland New York, NY', 'Syria New York, NY',\n",
       "       'London Skanteales, NY', 'Syria Ottawa, ON',\n",
       "       'England New York, NY', 'Krakudden, Sweden Moune, IL',\n",
       "       'Tranvik, Finland New York', 'Syria', 'Hong Kong New York, NY',\n",
       "       'Brennes, Norway New York', 'Stockholm, Sweden New York',\n",
       "       'Syria Kent, ON', 'Ireland Chicago, IL',\n",
       "       'Treherbert, Cardiff, Wales',\n",
       "       'Kingwilliamstown, Co Cork, Ireland Glens Falls, NY',\n",
       "       'Medeltorp, Sweden Chicago, IL', 'Bridgerule, Devon',\n",
       "       'Broomfield, Chelmsford, England', 'Co Cork, Ireland Roxbury, MA',\n",
       "       'Kingwilliamstown, Co Cork, Ireland New York, NY',\n",
       "       'Co Cork, Ireland Charlestown, MA',\n",
       "       'Co Sligo, Ireland New York, NY', 'Croatia',\n",
       "       'Ireland Philadelphia, PA', 'Dagsas, Sweden Fower, MN',\n",
       "       'Goteborg, Sweden Huntley, IL',\n",
       "       'Co Longford, Ireland New York, NY',\n",
       "       'Co Sligo, Ireland Hartford, CT', 'St Denys, Southampton, Hants',\n",
       "       'Ireland New York, NY', 'Greece', 'Portugal',\n",
       "       'London Brooklyn, NY', 'Co Limerick, Ireland Sherbrooke, PQ',\n",
       "       'Ireland Brooklyn, NY', 'Ireland', 'Austria',\n",
       "       'England Brooklyn, NY', 'Merrill, WI',\n",
       "       'Bristol, England Cleveland, OH',\n",
       "       'Bournemouth, England Newark, NJ', 'Austria-Hungary',\n",
       "       'Australia Fingal, ND', 'Norrlot, Sweden Chicago, IL',\n",
       "       'Co Athlone, Ireland New York, NY', 'Stanton, IA',\n",
       "       'West Bromwich, England Pontiac, MI',\n",
       "       'Liverpool, England Bedford, OH', 'Tampico, MT',\n",
       "       'Belgium Detroit, MI', 'Devon, England Wichita, KS',\n",
       "       'Bulgaria Coon Rapids, IA',\n",
       "       'Kilmacowen, Co Sligo, Ireland New York, NY',\n",
       "       'England Oglesby, IL', 'Union Hill, NJ', 'London New York, NY',\n",
       "       'Austria Niagara Falls, NY', 'West Haven, CT',\n",
       "       'Tofta, Sweden Joliet, IL', 'Karberg, Sweden Jerome Junction, AZ',\n",
       "       'Effington Rut, SD', 'Illinois, USA',\n",
       "       'Aughnacliff, Co Longford, Ireland New York, NY',\n",
       "       'Italy Philadelphia, PA',\n",
       "       'Rotherfield, Sussex, England Essex Co, MA',\n",
       "       'Bridgwater, Somerset, England',\n",
       "       'Co Clare, Ireland Washington, DC',\n",
       "       'Strood, Kent, England Detroit, MI',\n",
       "       'Wiltshire, England Niagara Falls, NY', 'Dorking, Surrey, England',\n",
       "       'Foresvik, Norway Portland, ND', 'Waukegan, Chicago, IL',\n",
       "       'Myren, Sweden New York, NY', 'Finland Sudbury, ON',\n",
       "       'Oslo, Norway Cameron, WI', 'Antwerp, Belgium / Stanton, OH'],\n",
       "      dtype=object)"
      ]
     },
     "execution_count": 42,
     "metadata": {},
     "output_type": "execute_result"
    }
   ],
   "source": [
    "df['home.dest'].unique()"
   ]
  },
  {
   "cell_type": "code",
   "execution_count": 43,
   "metadata": {},
   "outputs": [
    {
     "data": {
      "text/plain": [
       "(1309, 12)"
      ]
     },
     "execution_count": 43,
     "metadata": {},
     "output_type": "execute_result"
    }
   ],
   "source": [
    "df.shape"
   ]
  },
  {
   "cell_type": "code",
   "execution_count": 44,
   "metadata": {},
   "outputs": [],
   "source": [
    "from sklearn.preprocessing import LabelEncoder\n",
    "obj = LabelEncoder()\n",
    "df['sex']=obj.fit_transform(df.sex)"
   ]
  },
  {
   "cell_type": "code",
   "execution_count": 53,
   "metadata": {},
   "outputs": [
    {
     "data": {
      "text/plain": [
       "numpy.ndarray"
      ]
     },
     "execution_count": 53,
     "metadata": {},
     "output_type": "execute_result"
    }
   ],
   "source": [
    "type(df.columns.values)"
   ]
  },
  {
   "cell_type": "code",
   "execution_count": 49,
   "metadata": {},
   "outputs": [
    {
     "name": "stdout",
     "output_type": "stream",
     "text": [
      "<class 'pandas.core.frame.DataFrame'>\n",
      "RangeIndex: 1309 entries, 0 to 1308\n",
      "Data columns (total 12 columns):\n",
      "pclass       1309 non-null int64\n",
      "survived     1309 non-null int64\n",
      "sex          1309 non-null int64\n",
      "age          1046 non-null float64\n",
      "sibsp        1309 non-null int64\n",
      "parch        1309 non-null int64\n",
      "ticket       1309 non-null object\n",
      "fare         1308 non-null float64\n",
      "cabin        295 non-null object\n",
      "embarked     1307 non-null object\n",
      "boat         486 non-null object\n",
      "home.dest    745 non-null object\n",
      "dtypes: float64(2), int64(5), object(5)\n",
      "memory usage: 122.8+ KB\n"
     ]
    }
   ],
   "source": [
    "df.info()\n"
   ]
  },
  {
   "cell_type": "code",
   "execution_count": 63,
   "metadata": {},
   "outputs": [
    {
     "name": "stdout",
     "output_type": "stream",
     "text": [
      "<class 'pandas.core.frame.DataFrame'>\n",
      "RangeIndex: 1309 entries, 0 to 1308\n",
      "Data columns (total 12 columns):\n",
      "pclass       1309 non-null int64\n",
      "survived     1309 non-null int64\n",
      "sex          1309 non-null int64\n",
      "age          1309 non-null int64\n",
      "sibsp        1309 non-null int64\n",
      "parch        1309 non-null int64\n",
      "ticket       1309 non-null object\n",
      "fare         1309 non-null float64\n",
      "cabin        1309 non-null object\n",
      "embarked     1309 non-null object\n",
      "boat         1309 non-null object\n",
      "home.dest    1309 non-null object\n",
      "dtypes: float64(1), int64(6), object(5)\n",
      "memory usage: 122.8+ KB\n"
     ]
    },
    {
     "name": "stderr",
     "output_type": "stream",
     "text": [
      "C:\\ProgramData\\Anaconda3\\lib\\site-packages\\ipykernel_launcher.py:1: FutureWarning: convert_objects is deprecated.  To re-infer data dtypes for object columns, use DataFrame.infer_objects()\n",
      "For all other conversions use the data-type specific converters pd.to_datetime, pd.to_timedelta and pd.to_numeric.\n",
      "  \"\"\"Entry point for launching an IPython kernel.\n"
     ]
    }
   ],
   "source": [
    "df.convert_objects(convert_numeric=True)\n",
    "df.info()"
   ]
  },
  {
   "cell_type": "code",
   "execution_count": 51,
   "metadata": {},
   "outputs": [],
   "source": [
    "df.fillna(0,inplace=True)"
   ]
  },
  {
   "cell_type": "code",
   "execution_count": 58,
   "metadata": {},
   "outputs": [
    {
     "ename": "AttributeError",
     "evalue": "'Index' object has no attribute 'dtypes'",
     "output_type": "error",
     "traceback": [
      "\u001b[1;31m---------------------------------------------------------------------------\u001b[0m",
      "\u001b[1;31mAttributeError\u001b[0m                            Traceback (most recent call last)",
      "\u001b[1;32m<ipython-input-58-d425cf19cff5>\u001b[0m in \u001b[0;36m<module>\u001b[1;34m()\u001b[0m\n\u001b[1;32m----> 1\u001b[1;33m \u001b[0mdf\u001b[0m\u001b[1;33m.\u001b[0m\u001b[0mcolumns\u001b[0m\u001b[1;33m.\u001b[0m\u001b[0mdtypes\u001b[0m\u001b[1;33m\u001b[0m\u001b[0m\n\u001b[0m",
      "\u001b[1;31mAttributeError\u001b[0m: 'Index' object has no attribute 'dtypes'"
     ]
    }
   ],
   "source": [
    "df.columns"
   ]
  },
  {
   "cell_type": "code",
   "execution_count": 67,
   "metadata": {},
   "outputs": [
    {
     "name": "stderr",
     "output_type": "stream",
     "text": [
      "C:\\ProgramData\\Anaconda3\\lib\\site-packages\\ipykernel_launcher.py:5: FutureWarning: convert_objects is deprecated.  To re-infer data dtypes for object columns, use DataFrame.infer_objects()\n",
      "For all other conversions use the data-type specific converters pd.to_datetime, pd.to_timedelta and pd.to_numeric.\n",
      "  \"\"\"\n"
     ]
    },
    {
     "ename": "TypeError",
     "evalue": "'<' not supported between instances of 'str' and 'int'",
     "output_type": "error",
     "traceback": [
      "\u001b[1;31m---------------------------------------------------------------------------\u001b[0m",
      "\u001b[1;31mTypeError\u001b[0m                                 Traceback (most recent call last)",
      "\u001b[1;32m<ipython-input-67-7257f2e4871d>\u001b[0m in \u001b[0;36m<module>\u001b[1;34m()\u001b[0m\n\u001b[0;32m     12\u001b[0m \u001b[1;33m\u001b[0m\u001b[0m\n\u001b[0;32m     13\u001b[0m     \u001b[1;32mreturn\u001b[0m\u001b[1;33m(\u001b[0m\u001b[0mdt\u001b[0m\u001b[1;33m)\u001b[0m\u001b[1;33m\u001b[0m\u001b[0m\n\u001b[1;32m---> 14\u001b[1;33m \u001b[0mdt\u001b[0m\u001b[1;33m=\u001b[0m\u001b[0mto_int\u001b[0m\u001b[1;33m(\u001b[0m\u001b[0mdf\u001b[0m\u001b[1;33m)\u001b[0m\u001b[1;33m\u001b[0m\u001b[0m\n\u001b[0m",
      "\u001b[1;32m<ipython-input-67-7257f2e4871d>\u001b[0m in \u001b[0;36mto_int\u001b[1;34m(dt)\u001b[0m\n\u001b[0;32m      9\u001b[0m     \u001b[1;32mfor\u001b[0m \u001b[0mcolumn\u001b[0m \u001b[1;32min\u001b[0m \u001b[0mcolumns\u001b[0m\u001b[1;33m:\u001b[0m\u001b[1;33m\u001b[0m\u001b[0m\n\u001b[0;32m     10\u001b[0m         \u001b[1;32mif\u001b[0m \u001b[0mdt\u001b[0m\u001b[1;33m[\u001b[0m\u001b[0mcolumn\u001b[0m\u001b[1;33m]\u001b[0m\u001b[1;33m.\u001b[0m\u001b[0mdtype\u001b[0m \u001b[1;33m!=\u001b[0m\u001b[0mnp\u001b[0m\u001b[1;33m.\u001b[0m\u001b[0mint64\u001b[0m \u001b[1;32mor\u001b[0m \u001b[0mdt\u001b[0m\u001b[1;33m[\u001b[0m\u001b[0mcolumn\u001b[0m\u001b[1;33m]\u001b[0m\u001b[1;33m.\u001b[0m\u001b[0mdtype\u001b[0m \u001b[1;33m!=\u001b[0m\u001b[0mnp\u001b[0m\u001b[1;33m.\u001b[0m\u001b[0mfloat64\u001b[0m\u001b[1;33m:\u001b[0m\u001b[1;33m\u001b[0m\u001b[0m\n\u001b[1;32m---> 11\u001b[1;33m             \u001b[0mdt\u001b[0m\u001b[1;33m[\u001b[0m\u001b[0mcolumn\u001b[0m\u001b[1;33m]\u001b[0m\u001b[1;33m=\u001b[0m\u001b[0mobj\u001b[0m\u001b[1;33m.\u001b[0m\u001b[0mfit_transform\u001b[0m\u001b[1;33m(\u001b[0m\u001b[0mdt\u001b[0m\u001b[1;33m[\u001b[0m\u001b[0mcolumn\u001b[0m\u001b[1;33m]\u001b[0m\u001b[1;33m)\u001b[0m\u001b[1;33m\u001b[0m\u001b[0m\n\u001b[0m\u001b[0;32m     12\u001b[0m \u001b[1;33m\u001b[0m\u001b[0m\n\u001b[0;32m     13\u001b[0m     \u001b[1;32mreturn\u001b[0m\u001b[1;33m(\u001b[0m\u001b[0mdt\u001b[0m\u001b[1;33m)\u001b[0m\u001b[1;33m\u001b[0m\u001b[0m\n",
      "\u001b[1;32mC:\\ProgramData\\Anaconda3\\lib\\site-packages\\sklearn\\preprocessing\\label.py\u001b[0m in \u001b[0;36mfit_transform\u001b[1;34m(self, y)\u001b[0m\n\u001b[0;32m    110\u001b[0m         \"\"\"\n\u001b[0;32m    111\u001b[0m         \u001b[0my\u001b[0m \u001b[1;33m=\u001b[0m \u001b[0mcolumn_or_1d\u001b[0m\u001b[1;33m(\u001b[0m\u001b[0my\u001b[0m\u001b[1;33m,\u001b[0m \u001b[0mwarn\u001b[0m\u001b[1;33m=\u001b[0m\u001b[1;32mTrue\u001b[0m\u001b[1;33m)\u001b[0m\u001b[1;33m\u001b[0m\u001b[0m\n\u001b[1;32m--> 112\u001b[1;33m         \u001b[0mself\u001b[0m\u001b[1;33m.\u001b[0m\u001b[0mclasses_\u001b[0m\u001b[1;33m,\u001b[0m \u001b[0my\u001b[0m \u001b[1;33m=\u001b[0m \u001b[0mnp\u001b[0m\u001b[1;33m.\u001b[0m\u001b[0munique\u001b[0m\u001b[1;33m(\u001b[0m\u001b[0my\u001b[0m\u001b[1;33m,\u001b[0m \u001b[0mreturn_inverse\u001b[0m\u001b[1;33m=\u001b[0m\u001b[1;32mTrue\u001b[0m\u001b[1;33m)\u001b[0m\u001b[1;33m\u001b[0m\u001b[0m\n\u001b[0m\u001b[0;32m    113\u001b[0m         \u001b[1;32mreturn\u001b[0m \u001b[0my\u001b[0m\u001b[1;33m\u001b[0m\u001b[0m\n\u001b[0;32m    114\u001b[0m \u001b[1;33m\u001b[0m\u001b[0m\n",
      "\u001b[1;32mC:\\ProgramData\\Anaconda3\\lib\\site-packages\\numpy\\lib\\arraysetops.py\u001b[0m in \u001b[0;36munique\u001b[1;34m(ar, return_index, return_inverse, return_counts, axis)\u001b[0m\n\u001b[0;32m    231\u001b[0m     \u001b[0mar\u001b[0m \u001b[1;33m=\u001b[0m \u001b[0mnp\u001b[0m\u001b[1;33m.\u001b[0m\u001b[0masanyarray\u001b[0m\u001b[1;33m(\u001b[0m\u001b[0mar\u001b[0m\u001b[1;33m)\u001b[0m\u001b[1;33m\u001b[0m\u001b[0m\n\u001b[0;32m    232\u001b[0m     \u001b[1;32mif\u001b[0m \u001b[0maxis\u001b[0m \u001b[1;32mis\u001b[0m \u001b[1;32mNone\u001b[0m\u001b[1;33m:\u001b[0m\u001b[1;33m\u001b[0m\u001b[0m\n\u001b[1;32m--> 233\u001b[1;33m         \u001b[0mret\u001b[0m \u001b[1;33m=\u001b[0m \u001b[0m_unique1d\u001b[0m\u001b[1;33m(\u001b[0m\u001b[0mar\u001b[0m\u001b[1;33m,\u001b[0m \u001b[0mreturn_index\u001b[0m\u001b[1;33m,\u001b[0m \u001b[0mreturn_inverse\u001b[0m\u001b[1;33m,\u001b[0m \u001b[0mreturn_counts\u001b[0m\u001b[1;33m)\u001b[0m\u001b[1;33m\u001b[0m\u001b[0m\n\u001b[0m\u001b[0;32m    234\u001b[0m         \u001b[1;32mreturn\u001b[0m \u001b[0m_unpack_tuple\u001b[0m\u001b[1;33m(\u001b[0m\u001b[0mret\u001b[0m\u001b[1;33m)\u001b[0m\u001b[1;33m\u001b[0m\u001b[0m\n\u001b[0;32m    235\u001b[0m \u001b[1;33m\u001b[0m\u001b[0m\n",
      "\u001b[1;32mC:\\ProgramData\\Anaconda3\\lib\\site-packages\\numpy\\lib\\arraysetops.py\u001b[0m in \u001b[0;36m_unique1d\u001b[1;34m(ar, return_index, return_inverse, return_counts)\u001b[0m\n\u001b[0;32m    276\u001b[0m \u001b[1;33m\u001b[0m\u001b[0m\n\u001b[0;32m    277\u001b[0m     \u001b[1;32mif\u001b[0m \u001b[0moptional_indices\u001b[0m\u001b[1;33m:\u001b[0m\u001b[1;33m\u001b[0m\u001b[0m\n\u001b[1;32m--> 278\u001b[1;33m         \u001b[0mperm\u001b[0m \u001b[1;33m=\u001b[0m \u001b[0mar\u001b[0m\u001b[1;33m.\u001b[0m\u001b[0margsort\u001b[0m\u001b[1;33m(\u001b[0m\u001b[0mkind\u001b[0m\u001b[1;33m=\u001b[0m\u001b[1;34m'mergesort'\u001b[0m \u001b[1;32mif\u001b[0m \u001b[0mreturn_index\u001b[0m \u001b[1;32melse\u001b[0m \u001b[1;34m'quicksort'\u001b[0m\u001b[1;33m)\u001b[0m\u001b[1;33m\u001b[0m\u001b[0m\n\u001b[0m\u001b[0;32m    279\u001b[0m         \u001b[0maux\u001b[0m \u001b[1;33m=\u001b[0m \u001b[0mar\u001b[0m\u001b[1;33m[\u001b[0m\u001b[0mperm\u001b[0m\u001b[1;33m]\u001b[0m\u001b[1;33m\u001b[0m\u001b[0m\n\u001b[0;32m    280\u001b[0m     \u001b[1;32melse\u001b[0m\u001b[1;33m:\u001b[0m\u001b[1;33m\u001b[0m\u001b[0m\n",
      "\u001b[1;31mTypeError\u001b[0m: '<' not supported between instances of 'str' and 'int'"
     ]
    }
   ],
   "source": [
    "from sklearn.preprocessing import LabelEncoder\n",
    "obj =LabelEncoder()\n",
    "def to_int(dt):\n",
    "    #dt.drop(['name','body'],axis=1,inplace=True)\n",
    "    df.convert_objects(convert_numeric=True)\n",
    "    obj =LabelEncoder()\n",
    "    columns=dt.columns.values\n",
    "    #print(columns)\n",
    "    for column in columns:\n",
    "        if dt[column].dtype !=np.int64 or dt[column].dtype !=np.float64:\n",
    "            dt[column]=obj.fit_transform(dt[column])\n",
    "      \n",
    "    return(dt) \n",
    "dt=to_int(df)"
   ]
  },
  {
   "cell_type": "code",
   "execution_count": null,
   "metadata": {},
   "outputs": [],
   "source": []
  },
  {
   "cell_type": "code",
   "execution_count": null,
   "metadata": {},
   "outputs": [],
   "source": []
  },
  {
   "cell_type": "markdown",
   "metadata": {},
   "source": [
    "**convert string to int**"
   ]
  },
  {
   "cell_type": "code",
   "execution_count": 70,
   "metadata": {},
   "outputs": [],
   "source": [
    "def handle_non_numerical_data(df):\n",
    "    columns=df.columns.values\n",
    "    for column in columns:\n",
    "        text_digit_vals = {}\n",
    "        def convert_to_int(val):\n",
    "            return text_digit_vals[val]\n",
    "        \n",
    "        if df[column].dtype !=np.int64 and df[column].dtype !=np.float64:\n",
    "            column_contents = df[column].values.tolist()\n",
    "            unique_elements = set(column_contents)\n",
    "            x=0\n",
    "            for unique in unique_elements:\n",
    "                if unique not in text_digit_vals:\n",
    "                    text_digit_vals[unique] = x\n",
    "                    x+=1\n",
    "    \n",
    "            df[column] = list(map(convert_to_int,df[column]))\n",
    "     \n",
    "    return df\n",
    "\n",
    "df = handle_non_numerical_data(df)"
   ]
  },
  {
   "cell_type": "code",
   "execution_count": 71,
   "metadata": {},
   "outputs": [
    {
     "data": {
      "text/html": [
       "<div>\n",
       "<style scoped>\n",
       "    .dataframe tbody tr th:only-of-type {\n",
       "        vertical-align: middle;\n",
       "    }\n",
       "\n",
       "    .dataframe tbody tr th {\n",
       "        vertical-align: top;\n",
       "    }\n",
       "\n",
       "    .dataframe thead th {\n",
       "        text-align: right;\n",
       "    }\n",
       "</style>\n",
       "<table border=\"1\" class=\"dataframe\">\n",
       "  <thead>\n",
       "    <tr style=\"text-align: right;\">\n",
       "      <th></th>\n",
       "      <th>pclass</th>\n",
       "      <th>survived</th>\n",
       "      <th>sex</th>\n",
       "      <th>age</th>\n",
       "      <th>sibsp</th>\n",
       "      <th>parch</th>\n",
       "      <th>ticket</th>\n",
       "      <th>fare</th>\n",
       "      <th>cabin</th>\n",
       "      <th>embarked</th>\n",
       "      <th>boat</th>\n",
       "      <th>home.dest</th>\n",
       "    </tr>\n",
       "  </thead>\n",
       "  <tbody>\n",
       "    <tr>\n",
       "      <th>0</th>\n",
       "      <td>0</td>\n",
       "      <td>1</td>\n",
       "      <td>0</td>\n",
       "      <td>45</td>\n",
       "      <td>0</td>\n",
       "      <td>0</td>\n",
       "      <td>740</td>\n",
       "      <td>211.3375</td>\n",
       "      <td>5</td>\n",
       "      <td>3</td>\n",
       "      <td>1</td>\n",
       "      <td>228</td>\n",
       "    </tr>\n",
       "    <tr>\n",
       "      <th>1</th>\n",
       "      <td>0</td>\n",
       "      <td>1</td>\n",
       "      <td>1</td>\n",
       "      <td>7</td>\n",
       "      <td>1</td>\n",
       "      <td>2</td>\n",
       "      <td>508</td>\n",
       "      <td>151.5500</td>\n",
       "      <td>73</td>\n",
       "      <td>3</td>\n",
       "      <td>17</td>\n",
       "      <td>7</td>\n",
       "    </tr>\n",
       "    <tr>\n",
       "      <th>2</th>\n",
       "      <td>0</td>\n",
       "      <td>0</td>\n",
       "      <td>0</td>\n",
       "      <td>9</td>\n",
       "      <td>1</td>\n",
       "      <td>2</td>\n",
       "      <td>508</td>\n",
       "      <td>151.5500</td>\n",
       "      <td>73</td>\n",
       "      <td>3</td>\n",
       "      <td>0</td>\n",
       "      <td>7</td>\n",
       "    </tr>\n",
       "    <tr>\n",
       "      <th>3</th>\n",
       "      <td>0</td>\n",
       "      <td>0</td>\n",
       "      <td>1</td>\n",
       "      <td>46</td>\n",
       "      <td>1</td>\n",
       "      <td>2</td>\n",
       "      <td>508</td>\n",
       "      <td>151.5500</td>\n",
       "      <td>73</td>\n",
       "      <td>3</td>\n",
       "      <td>0</td>\n",
       "      <td>7</td>\n",
       "    </tr>\n",
       "    <tr>\n",
       "      <th>4</th>\n",
       "      <td>0</td>\n",
       "      <td>0</td>\n",
       "      <td>0</td>\n",
       "      <td>39</td>\n",
       "      <td>1</td>\n",
       "      <td>2</td>\n",
       "      <td>508</td>\n",
       "      <td>151.5500</td>\n",
       "      <td>73</td>\n",
       "      <td>3</td>\n",
       "      <td>0</td>\n",
       "      <td>7</td>\n",
       "    </tr>\n",
       "  </tbody>\n",
       "</table>\n",
       "</div>"
      ],
      "text/plain": [
       "   pclass  survived  sex  age  sibsp  parch  ticket      fare  cabin  \\\n",
       "0       0         1    0   45      0      0     740  211.3375      5   \n",
       "1       0         1    1    7      1      2     508  151.5500     73   \n",
       "2       0         0    0    9      1      2     508  151.5500     73   \n",
       "3       0         0    1   46      1      2     508  151.5500     73   \n",
       "4       0         0    0   39      1      2     508  151.5500     73   \n",
       "\n",
       "   embarked  boat  home.dest  \n",
       "0         3     1        228  \n",
       "1         3    17          7  \n",
       "2         3     0          7  \n",
       "3         3     0          7  \n",
       "4         3     0          7  "
      ]
     },
     "execution_count": 71,
     "metadata": {},
     "output_type": "execute_result"
    }
   ],
   "source": [
    "df.head()"
   ]
  },
  {
   "cell_type": "code",
   "execution_count": 72,
   "metadata": {},
   "outputs": [],
   "source": [
    "from sklearn import preprocessing\n",
    "x=np.array(df.drop(['survived'],1).astype(float))\n",
    "x=preprocessing.scale(x)\n",
    "y= np.array(df['survived'])"
   ]
  },
  {
   "cell_type": "code",
   "execution_count": 73,
   "metadata": {},
   "outputs": [
    {
     "data": {
      "text/plain": [
       "KMeans(algorithm='auto', copy_x=True, init='k-means++', max_iter=300,\n",
       "    n_clusters=2, n_init=10, n_jobs=1, precompute_distances='auto',\n",
       "    random_state=None, tol=0.0001, verbose=0)"
      ]
     },
     "execution_count": 73,
     "metadata": {},
     "output_type": "execute_result"
    }
   ],
   "source": [
    "from sklearn.cluster import KMeans\n",
    "clf = KMeans(n_clusters=2)\n",
    "clf.fit(x)"
   ]
  },
  {
   "cell_type": "code",
   "execution_count": 74,
   "metadata": {},
   "outputs": [
    {
     "data": {
      "text/plain": [
       "array([[-1.54609786, -1.34499549,  0.34800665, ...,  0.62364835,\n",
       "        -0.52982639,  1.08234233],\n",
       "       [-1.54609786,  0.74349692, -1.15321154, ...,  0.62364835,\n",
       "         1.22959709, -0.80206727],\n",
       "       [-1.54609786, -1.34499549, -1.07420006, ...,  0.62364835,\n",
       "        -0.63979036, -0.80206727],\n",
       "       ...,\n",
       "       [ 0.84191642,  0.74349692,  0.18998369, ..., -1.81687688,\n",
       "        -0.63979036, -0.86175445],\n",
       "       [ 0.84191642,  0.74349692,  0.22948943, ..., -1.81687688,\n",
       "        -0.63979036, -0.86175445],\n",
       "       [ 0.84191642,  0.74349692,  0.34800665, ...,  0.62364835,\n",
       "        -0.63979036, -0.86175445]])"
      ]
     },
     "execution_count": 74,
     "metadata": {},
     "output_type": "execute_result"
    }
   ],
   "source": [
    "\n",
    "x "
   ]
  },
  {
   "cell_type": "code",
   "execution_count": 75,
   "metadata": {},
   "outputs": [
    {
     "data": {
      "text/plain": [
       "array([-1.54609786,  0.74349692,  0.3875124 ,  0.54117574,  1.93105635,\n",
       "        0.13334735,  2.28660634,  1.12537844,  0.62364835, -0.63979036,\n",
       "       -0.80206727])"
      ]
     },
     "execution_count": 75,
     "metadata": {},
     "output_type": "execute_result"
    }
   ],
   "source": [
    "x[3]"
   ]
  },
  {
   "cell_type": "code",
   "execution_count": 76,
   "metadata": {},
   "outputs": [],
   "source": [
    "y_pred = clf.predict(x)"
   ]
  },
  {
   "cell_type": "code",
   "execution_count": 77,
   "metadata": {},
   "outputs": [
    {
     "data": {
      "text/plain": [
       "(1309, 1309)"
      ]
     },
     "execution_count": 77,
     "metadata": {},
     "output_type": "execute_result"
    }
   ],
   "source": [
    "len(y_pred),len(y)"
   ]
  },
  {
   "cell_type": "code",
   "execution_count": 78,
   "metadata": {},
   "outputs": [
    {
     "data": {
      "text/plain": [
       "0.6997708174178763"
      ]
     },
     "execution_count": 78,
     "metadata": {},
     "output_type": "execute_result"
    }
   ],
   "source": [
    "ct=0\n",
    "for i in range(len(y)):\n",
    "    if y[i] ==y_pred[i]:\n",
    "        ct+=1\n",
    "\n",
    "ct/len(y)"
   ]
  },
  {
   "cell_type": "code",
   "execution_count": 80,
   "metadata": {},
   "outputs": [
    {
     "name": "stdout",
     "output_type": "stream",
     "text": [
      "[[711 295]\n",
      " [ 98 205]]\n",
      "0.6997708174178763\n"
     ]
    },
    {
     "data": {
      "text/plain": [
       "array([[ 0.44312278,  0.08954552, -0.20542716,  0.00520948, -0.01217521,\n",
       "         0.04460595, -0.33405764, -0.39644137,  0.16877908, -0.13883125,\n",
       "        -0.15617093],\n",
       "       [-1.47122613, -0.29730293,  0.6820453 , -0.01729615,  0.04042329,\n",
       "        -0.14809765,  1.10911548,  1.3162377 , -0.56036884,  0.46093807,\n",
       "         0.51850811]])"
      ]
     },
     "execution_count": 80,
     "metadata": {},
     "output_type": "execute_result"
    }
   ],
   "source": [
    "from sklearn.metrics import confusion_matrix\n",
    "print(confusion_matrix(y_pred,df.survived))\n",
    "print((916/1309))\n",
    "clf.cluster_centers_"
   ]
  },
  {
   "cell_type": "code",
   "execution_count": 118,
   "metadata": {},
   "outputs": [
    {
     "data": {
      "text/plain": [
       "array([0, 0, 0, ..., 1, 1, 1])"
      ]
     },
     "execution_count": 118,
     "metadata": {},
     "output_type": "execute_result"
    }
   ],
   "source": [
    "clf.labels_"
   ]
  },
  {
   "cell_type": "code",
   "execution_count": 119,
   "metadata": {},
   "outputs": [],
   "source": [
    " df.drop(['ticket'],1,inplace=True)"
   ]
  },
  {
   "cell_type": "markdown",
   "metadata": {},
   "source": [
    "'''\n",
    "from sklearn import preprocessing\n",
    "x=np.array(df.drop(['survived'],1).astype(float))\n",
    "x=preprocessing.scale(x)\n",
    "y= np.array(df['survived'])\n",
    "\n",
    "from sklearn.cluster import KMeans\n",
    "clf = KMeans(n_clusters=2)\n",
    "clf.fit(x)\n",
    "\n",
    "y_pred = clf.predict(x)\n",
    "\n",
    "\n",
    "ct=0\n",
    "for i in range(len(y)):\n",
    "    if y[i] ==y_pred[i]:\n",
    "        ct+=1\n",
    "\n",
    "ct/len(y)\n",
    "'''"
   ]
  },
  {
   "cell_type": "code",
   "execution_count": 124,
   "metadata": {},
   "outputs": [
    {
     "data": {
      "text/plain": [
       "0.7058823529411765"
      ]
     },
     "execution_count": 124,
     "metadata": {},
     "output_type": "execute_result"
    }
   ],
   "source": [
    "from sklearn import preprocessing\n",
    "x=np.array(df.drop(['survived','sex'],1).astype(float))\n",
    "x=preprocessing.scale(x)\n",
    "y= np.array(df['survived'])\n",
    "\n",
    "from sklearn.cluster import KMeans\n",
    "clf = KMeans(n_clusters=2)\n",
    "clf.fit(x)\n",
    "\n",
    "y_pred = clf.predict(x)\n",
    "\n",
    "\n",
    "ct=0\n",
    "for i in range(len(y)):\n",
    "    if y[i] ==y_pred[i]:\n",
    "        ct+=1\n",
    "\n",
    "ct/len(y)"
   ]
  },
  {
   "cell_type": "markdown",
   "metadata": {
    "collapsed": true
   },
   "source": [
    "## Soft K-Means"
   ]
  },
  {
   "cell_type": "code",
   "execution_count": 4,
   "metadata": {},
   "outputs": [],
   "source": [
    "import numpy as np\n",
    "import matplotlib.pyplot as plt\n",
    "\n",
    "D=2\n",
    "s=4\n",
    "mu1=np.array([0,0])\n",
    "mu2=np.array([s,s])\n",
    "mu3=np.array([0,s])\n",
    "\n",
    "N=900\n",
    "X=np.zeros([N,D])\n",
    "X\n"
   ]
  },
  {
   "cell_type": "code",
   "execution_count": 18,
   "metadata": {},
   "outputs": [],
   "source": [
    "X[:300,:]=np.random.rand(300,D)+mu1"
   ]
  },
  {
   "cell_type": "code",
   "execution_count": 29,
   "metadata": {},
   "outputs": [],
   "source": [
    "x=np.array([[1,2],[3,4],[5,6]])+mu2"
   ]
  },
  {
   "cell_type": "code",
   "execution_count": 32,
   "metadata": {},
   "outputs": [
    {
     "ename": "AttributeError",
     "evalue": "module 'numpy' has no attribute 'xrange'",
     "output_type": "error",
     "traceback": [
      "\u001b[1;31m---------------------------------------------------------------------------\u001b[0m",
      "\u001b[1;31mAttributeError\u001b[0m                            Traceback (most recent call last)",
      "\u001b[1;32m<ipython-input-32-fa3ac1d0f04c>\u001b[0m in \u001b[0;36m<module>\u001b[1;34m()\u001b[0m\n\u001b[1;32m----> 1\u001b[1;33m \u001b[0mnp\u001b[0m\u001b[1;33m.\u001b[0m\u001b[0mxrange\u001b[0m\u001b[1;33m(\u001b[0m\u001b[1;36m4\u001b[0m\u001b[1;33m)\u001b[0m\u001b[1;33m\u001b[0m\u001b[0m\n\u001b[0m",
      "\u001b[1;31mAttributeError\u001b[0m: module 'numpy' has no attribute 'xrange'"
     ]
    }
   ],
   "source": [
    "np.random.choice()"
   ]
  },
  {
   "cell_type": "code",
   "execution_count": 2,
   "metadata": {},
   "outputs": [
    {
     "ename": "NameError",
     "evalue": "name 'xrange' is not defined",
     "output_type": "error",
     "traceback": [
      "\u001b[1;31m---------------------------------------------------------------------------\u001b[0m",
      "\u001b[1;31mNameError\u001b[0m                                 Traceback (most recent call last)",
      "\u001b[1;32m<ipython-input-2-52c9ab51dda2>\u001b[0m in \u001b[0;36m<module>\u001b[1;34m()\u001b[0m\n\u001b[1;32m----> 1\u001b[1;33m \u001b[1;32mfor\u001b[0m \u001b[0mi\u001b[0m \u001b[1;32min\u001b[0m \u001b[0mxrange\u001b[0m\u001b[1;33m(\u001b[0m\u001b[1;36m4\u001b[0m\u001b[1;33m)\u001b[0m\u001b[1;33m:\u001b[0m\u001b[1;33m\u001b[0m\u001b[0m\n\u001b[0m\u001b[0;32m      2\u001b[0m     \u001b[0mprint\u001b[0m\u001b[1;33m(\u001b[0m\u001b[0mi\u001b[0m\u001b[1;33m)\u001b[0m\u001b[1;33m\u001b[0m\u001b[0m\n",
      "\u001b[1;31mNameError\u001b[0m: name 'xrange' is not defined"
     ]
    }
   ],
   "source": [
    "for i in xrange(4):\n",
    "    print(i)"
   ]
  },
  {
   "cell_type": "code",
   "execution_count": null,
   "metadata": {},
   "outputs": [],
   "source": []
  }
 ],
 "metadata": {
  "kernelspec": {
   "display_name": "Python 3",
   "language": "python",
   "name": "python3"
  },
  "language_info": {
   "codemirror_mode": {
    "name": "ipython",
    "version": 3
   },
   "file_extension": ".py",
   "mimetype": "text/x-python",
   "name": "python",
   "nbconvert_exporter": "python",
   "pygments_lexer": "ipython3",
   "version": "3.7.0"
  }
 },
 "nbformat": 4,
 "nbformat_minor": 2
}
