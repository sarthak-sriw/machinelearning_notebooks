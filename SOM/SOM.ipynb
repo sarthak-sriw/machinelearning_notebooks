{
 "cells": [
  {
   "cell_type": "code",
   "execution_count": 15,
   "metadata": {},
   "outputs": [
    {
     "data": {
      "image/png": "[encoded data removed]",
      "text/plain": [
       "<Figure size 432x288 with 2 Axes>"
      ]
     },
     "metadata": {
      "needs_background": "light"
     },
     "output_type": "display_data"
    }
   ],
   "source": [
    " # Self Organizing Map\n",
    "\n",
    "# Importing the libraries\n",
    "import numpy as np\n",
    "import matplotlib.pyplot as plt\n",
    "import pandas as pd\n",
    "#import ipynb\n",
    "\n",
    "# Importing the dataset\n",
    "dataset = pd.read_csv('Credit_Card_Applications.csv')\n",
    "X = dataset.iloc[:, :-1].values\n",
    "y = dataset.iloc[:, -1].values\n",
    "\n",
    "# Feature Scaling\n",
    "from sklearn.preprocessing import MinMaxScaler\n",
    "sc = MinMaxScaler(feature_range = (0, 1))\n",
    "X = sc.fit_transform(X)\n",
    "\n",
    "# Training the SOM\n",
    "from minisom import MiniSom\n",
    "\n",
    "#input_len=no of columns\n",
    "#sigma=radius of circle\n",
    "som = MiniSom(x = 10, y = 10, input_len = 15, sigma = 1.0, learning_rate = 0.5)\n",
    "som.random_weights_init(X)\n",
    "som.train_random(data = X, num_iteration = 100)\n",
    "#we take minimum distance\n",
    "\n",
    "# Visualizing the results\n",
    "from pylab import bone, pcolor, colorbar, plot, show\n",
    "#initialize the figure\n",
    "bone()\n",
    "#calculate normalized distance between winning neuron and input vectors\n",
    "\n",
    "pcolor(som.distance_map().T)\n",
    "#legend\n",
    "colorbar()\n",
    "# 'o' -circle   's' -square\n",
    "#customer that are non fraudlent are having low mid ie are black whereas whte ones are fraudlent\n",
    "markers = ['o', 's']\n",
    "colors = ['r', 'g']\n",
    "#w contains the coordinates\n",
    "#circle who doesn't got approval\n",
    "#square who got approval\n",
    "#color denote whether they are fraulent or not\n",
    "for i, x in enumerate(X):\n",
    "    w = som.winner(x)\n",
    "    plot(w[0] + 0.5,\n",
    "         w[1] + 0.5,\n",
    "         markers[y[i]],\n",
    "         markeredgecolor = colors[y[i]],\n",
    "         markerfacecolor = 'None',\n",
    "         markersize = 10,\n",
    "         markeredgewidth = 2)\n",
    "show()\n",
    "\n",
    "# Finding the frauds\n",
    "mappings = som.win_map(X)\n",
    "#mapping dict key is coordinates in map list with all the patterns that have been mapped in the position \n"
   ]
  },
  {
   "cell_type": "code",
   "execution_count": 19,
   "metadata": {},
   "outputs": [
    {
     "data": {
      "text/plain": [
       "(1, 0)"
      ]
     },
     "execution_count": 19,
     "metadata": {},
     "output_type": "execute_result"
    }
   ],
   "source": []
  },
  {
   "cell_type": "code",
   "execution_count": 16,
   "metadata": {},
   "outputs": [],
   "source": [
    "\n",
    "#find the coordinates to who are most likely to be fraudlent ie white ones\n",
    "frauds = np.concatenate((mappings[(2,7)], mappings[(3,3)]), axis = 0)\n",
    "frauds = sc.inverse_transform(frauds)\n",
    "\n",
    "#white ones are fraudlents and further study will be done "
   ]
  },
  {
   "cell_type": "code",
   "execution_count": 17,
   "metadata": {},
   "outputs": [
    {
     "data": {
      "text/plain": [
       "array([[1.5631685e+07, 1.0000000e+00, 2.3170000e+01, 0.0000000e+00,\n",
       "        2.0000000e+00, 1.3000000e+01, 4.0000000e+00, 8.5000000e-02,\n",
       "        1.0000000e+00, 0.0000000e+00, 0.0000000e+00, 0.0000000e+00,\n",
       "        2.0000000e+00, 0.0000000e+00, 1.0000000e+00],\n",
       "       [1.5614813e+07, 1.0000000e+00, 2.0250000e+01, 9.9600000e+00,\n",
       "        2.0000000e+00, 1.0000000e+01, 2.0000000e+00, 0.0000000e+00,\n",
       "        1.0000000e+00, 0.0000000e+00, 0.0000000e+00, 0.0000000e+00,\n",
       "        2.0000000e+00, 0.0000000e+00, 1.0000000e+00],\n",
       "       [1.5571081e+07, 1.0000000e+00, 2.2670000e+01, 1.0500000e+01,\n",
       "        2.0000000e+00, 1.1000000e+01, 8.0000000e+00, 1.3350000e+00,\n",
       "        1.0000000e+00, 0.0000000e+00, 0.0000000e+00, 0.0000000e+00,\n",
       "        2.0000000e+00, 1.0000000e+02, 1.0000000e+00],\n",
       "       [1.5715519e+07, 1.0000000e+00, 2.9920000e+01, 1.8350000e+00,\n",
       "        2.0000000e+00, 8.0000000e+00, 8.0000000e+00, 4.3350000e+00,\n",
       "        1.0000000e+00, 0.0000000e+00, 0.0000000e+00, 0.0000000e+00,\n",
       "        2.0000000e+00, 2.6000000e+02, 2.0100000e+02],\n",
       "       [1.5630592e+07, 1.0000000e+00, 5.1420000e+01, 4.0000000e-02,\n",
       "        2.0000000e+00, 1.4000000e+01, 8.0000000e+00, 4.0000000e-02,\n",
       "        1.0000000e+00, 0.0000000e+00, 0.0000000e+00, 0.0000000e+00,\n",
       "        2.0000000e+00, 0.0000000e+00, 3.0010000e+03],\n",
       "       [1.5589541e+07, 1.0000000e+00, 2.5750000e+01, 7.5000000e-01,\n",
       "        2.0000000e+00, 8.0000000e+00, 5.0000000e+00, 2.5000000e-01,\n",
       "        1.0000000e+00, 0.0000000e+00, 0.0000000e+00, 0.0000000e+00,\n",
       "        2.0000000e+00, 3.4900000e+02, 2.4000000e+01],\n",
       "       [1.5598574e+07, 1.0000000e+00, 1.9170000e+01, 9.5000000e+00,\n",
       "        2.0000000e+00, 9.0000000e+00, 4.0000000e+00, 1.5000000e+00,\n",
       "        1.0000000e+00, 0.0000000e+00, 0.0000000e+00, 0.0000000e+00,\n",
       "        2.0000000e+00, 1.2000000e+02, 2.2070000e+03],\n",
       "       [1.5711759e+07, 1.0000000e+00, 2.2670000e+01, 2.5400000e+00,\n",
       "        1.0000000e+00, 8.0000000e+00, 8.0000000e+00, 2.5850000e+00,\n",
       "        1.0000000e+00, 0.0000000e+00, 0.0000000e+00, 0.0000000e+00,\n",
       "        2.0000000e+00, 0.0000000e+00, 1.0000000e+00],\n",
       "       [1.5740487e+07, 0.0000000e+00, 4.9000000e+01, 1.5000000e+00,\n",
       "        2.0000000e+00, 5.0000000e+00, 3.0000000e+00, 0.0000000e+00,\n",
       "        1.0000000e+00, 0.0000000e+00, 0.0000000e+00, 1.0000000e+00,\n",
       "        2.0000000e+00, 1.0000000e+02, 2.8000000e+01],\n",
       "       [1.5715907e+07, 0.0000000e+00, 3.1570000e+01, 3.5000000e+00,\n",
       "        2.0000000e+00, 2.0000000e+00, 4.0000000e+00, 3.0000000e+00,\n",
       "        1.0000000e+00, 0.0000000e+00, 0.0000000e+00, 1.0000000e+00,\n",
       "        2.0000000e+00, 3.0000000e+02, 1.0000000e+00],\n",
       "       [1.5768342e+07, 0.0000000e+00, 4.1330000e+01, 1.0000000e+00,\n",
       "        2.0000000e+00, 3.0000000e+00, 5.0000000e+00, 2.2500000e+00,\n",
       "        1.0000000e+00, 0.0000000e+00, 0.0000000e+00, 1.0000000e+00,\n",
       "        2.0000000e+00, 0.0000000e+00, 3.0100000e+02]])"
      ]
     },
     "execution_count": 17,
     "metadata": {},
     "output_type": "execute_result"
    }
   ],
   "source": [
    "frauds"
   ]
  },
  {
   "cell_type": "code",
   "execution_count": null,
   "metadata": {},
   "outputs": [],
   "source": []
  }
 ],
 "metadata": {
  "kernelspec": {
   "display_name": "Python 3",
   "language": "python",
   "name": "python3"
  },
  "language_info": {
   "codemirror_mode": {
    "name": "ipython",
    "version": 3
   },
   "file_extension": ".py",
   "mimetype": "text/x-python",
   "name": "python",
   "nbconvert_exporter": "python",
   "pygments_lexer": "ipython3",
   "version": "3.6.7"
  }
 },
 "nbformat": 4,
 "nbformat_minor": 2
}
