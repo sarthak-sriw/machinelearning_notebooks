{
 "cells": [
  {
   "cell_type": "code",
   "execution_count": 36,
   "metadata": {},
   "outputs": [],
   "source": [
    "# Importing the libraries\n",
    "import numpy as np\n",
    "import matplotlib.pyplot as plt\n",
    "import pandas as pd\n",
    "\n",
    "# Importing the dataset \n",
    "dataset = pd.read_csv(r'C:\\Users\\SARTHAK\\Documents\\udemy\\dataset\\Churn_Modelling.csv')\n"
   ]
  },
  {
   "cell_type": "code",
   "execution_count": 37,
   "metadata": {},
   "outputs": [
    {
     "data": {
      "text/html": [
       "<div>\n",
       "<style scoped>\n",
       "    .dataframe tbody tr th:only-of-type {\n",
       "        vertical-align: middle;\n",
       "    }\n",
       "\n",
       "    .dataframe tbody tr th {\n",
       "        vertical-align: top;\n",
       "    }\n",
       "\n",
       "    .dataframe thead th {\n",
       "        text-align: right;\n",
       "    }\n",
       "</style>\n",
       "<table border=\"1\" class=\"dataframe\">\n",
       "  <thead>\n",
       "    <tr style=\"text-align: right;\">\n",
       "      <th></th>\n",
       "      <th>RowNumber</th>\n",
       "      <th>CustomerId</th>\n",
       "      <th>Surname</th>\n",
       "      <th>CreditScore</th>\n",
       "      <th>Geography</th>\n",
       "      <th>Gender</th>\n",
       "      <th>Age</th>\n",
       "      <th>Tenure</th>\n",
       "      <th>Balance</th>\n",
       "      <th>NumOfProducts</th>\n",
       "      <th>HasCrCard</th>\n",
       "      <th>IsActiveMember</th>\n",
       "      <th>EstimatedSalary</th>\n",
       "      <th>Exited</th>\n",
       "    </tr>\n",
       "  </thead>\n",
       "  <tbody>\n",
       "    <tr>\n",
       "      <th>0</th>\n",
       "      <td>1</td>\n",
       "      <td>15634602</td>\n",
       "      <td>Hargrave</td>\n",
       "      <td>619</td>\n",
       "      <td>France</td>\n",
       "      <td>Female</td>\n",
       "      <td>42</td>\n",
       "      <td>2</td>\n",
       "      <td>0.00</td>\n",
       "      <td>1</td>\n",
       "      <td>1</td>\n",
       "      <td>1</td>\n",
       "      <td>101348.88</td>\n",
       "      <td>1</td>\n",
       "    </tr>\n",
       "    <tr>\n",
       "      <th>1</th>\n",
       "      <td>2</td>\n",
       "      <td>15647311</td>\n",
       "      <td>Hill</td>\n",
       "      <td>608</td>\n",
       "      <td>Spain</td>\n",
       "      <td>Female</td>\n",
       "      <td>41</td>\n",
       "      <td>1</td>\n",
       "      <td>83807.86</td>\n",
       "      <td>1</td>\n",
       "      <td>0</td>\n",
       "      <td>1</td>\n",
       "      <td>112542.58</td>\n",
       "      <td>0</td>\n",
       "    </tr>\n",
       "    <tr>\n",
       "      <th>2</th>\n",
       "      <td>3</td>\n",
       "      <td>15619304</td>\n",
       "      <td>Onio</td>\n",
       "      <td>502</td>\n",
       "      <td>France</td>\n",
       "      <td>Female</td>\n",
       "      <td>42</td>\n",
       "      <td>8</td>\n",
       "      <td>159660.80</td>\n",
       "      <td>3</td>\n",
       "      <td>1</td>\n",
       "      <td>0</td>\n",
       "      <td>113931.57</td>\n",
       "      <td>1</td>\n",
       "    </tr>\n",
       "    <tr>\n",
       "      <th>3</th>\n",
       "      <td>4</td>\n",
       "      <td>15701354</td>\n",
       "      <td>Boni</td>\n",
       "      <td>699</td>\n",
       "      <td>France</td>\n",
       "      <td>Female</td>\n",
       "      <td>39</td>\n",
       "      <td>1</td>\n",
       "      <td>0.00</td>\n",
       "      <td>2</td>\n",
       "      <td>0</td>\n",
       "      <td>0</td>\n",
       "      <td>93826.63</td>\n",
       "      <td>0</td>\n",
       "    </tr>\n",
       "    <tr>\n",
       "      <th>4</th>\n",
       "      <td>5</td>\n",
       "      <td>15737888</td>\n",
       "      <td>Mitchell</td>\n",
       "      <td>850</td>\n",
       "      <td>Spain</td>\n",
       "      <td>Female</td>\n",
       "      <td>43</td>\n",
       "      <td>2</td>\n",
       "      <td>125510.82</td>\n",
       "      <td>1</td>\n",
       "      <td>1</td>\n",
       "      <td>1</td>\n",
       "      <td>79084.10</td>\n",
       "      <td>0</td>\n",
       "    </tr>\n",
       "  </tbody>\n",
       "</table>\n",
       "</div>"
      ],
      "text/plain": [
       "   RowNumber  CustomerId   Surname  CreditScore Geography  Gender  Age  \\\n",
       "0          1    15634602  Hargrave          619    France  Female   42   \n",
       "1          2    15647311      Hill          608     Spain  Female   41   \n",
       "2          3    15619304      Onio          502    France  Female   42   \n",
       "3          4    15701354      Boni          699    France  Female   39   \n",
       "4          5    15737888  Mitchell          850     Spain  Female   43   \n",
       "\n",
       "   Tenure    Balance  NumOfProducts  HasCrCard  IsActiveMember  \\\n",
       "0       2       0.00              1          1               1   \n",
       "1       1   83807.86              1          0               1   \n",
       "2       8  159660.80              3          1               0   \n",
       "3       1       0.00              2          0               0   \n",
       "4       2  125510.82              1          1               1   \n",
       "\n",
       "   EstimatedSalary  Exited  \n",
       "0        101348.88       1  \n",
       "1        112542.58       0  \n",
       "2        113931.57       1  \n",
       "3         93826.63       0  \n",
       "4         79084.10       0  "
      ]
     },
     "execution_count": 37,
     "metadata": {},
     "output_type": "execute_result"
    }
   ],
   "source": [
    "dataset.head()"
   ]
  },
  {
   "cell_type": "code",
   "execution_count": 38,
   "metadata": {},
   "outputs": [
    {
     "data": {
      "text/plain": [
       "Index(['RowNumber', 'CustomerId', 'Surname', 'CreditScore', 'Geography',\n",
       "       'Gender', 'Age', 'Tenure', 'Balance', 'NumOfProducts', 'HasCrCard',\n",
       "       'IsActiveMember', 'EstimatedSalary', 'Exited'],\n",
       "      dtype='object')"
      ]
     },
     "execution_count": 38,
     "metadata": {},
     "output_type": "execute_result"
    }
   ],
   "source": [
    "dataset.columns"
   ]
  },
  {
   "cell_type": "code",
   "execution_count": 39,
   "metadata": {
    "scrolled": true
   },
   "outputs": [],
   "source": [
    "dataset=dataset.drop(columns=['RowNumber','CustomerId','Surname'])"
   ]
  },
  {
   "cell_type": "code",
   "execution_count": 40,
   "metadata": {},
   "outputs": [
    {
     "data": {
      "text/plain": [
       "Index(['CreditScore', 'Age', 'Tenure', 'Balance', 'NumOfProducts', 'HasCrCard',\n",
       "       'IsActiveMember', 'EstimatedSalary', 'Exited', 'Geography_France',\n",
       "       'Geography_Germany', 'Geography_Spain', 'Gender_Female', 'Gender_Male'],\n",
       "      dtype='object')"
      ]
     },
     "execution_count": 40,
     "metadata": {},
     "output_type": "execute_result"
    }
   ],
   "source": [
    "dataset=pd.get_dummies(dataset)\n",
    "dataset.columns"
   ]
  },
  {
   "cell_type": "code",
   "execution_count": 41,
   "metadata": {},
   "outputs": [
    {
     "data": {
      "text/plain": [
       "(10000, 14)"
      ]
     },
     "execution_count": 41,
     "metadata": {},
     "output_type": "execute_result"
    }
   ],
   "source": [
    "dataset.shape"
   ]
  },
  {
   "cell_type": "code",
   "execution_count": 42,
   "metadata": {},
   "outputs": [
    {
     "data": {
      "text/html": [
       "<div>\n",
       "<style scoped>\n",
       "    .dataframe tbody tr th:only-of-type {\n",
       "        vertical-align: middle;\n",
       "    }\n",
       "\n",
       "    .dataframe tbody tr th {\n",
       "        vertical-align: top;\n",
       "    }\n",
       "\n",
       "    .dataframe thead th {\n",
       "        text-align: right;\n",
       "    }\n",
       "</style>\n",
       "<table border=\"1\" class=\"dataframe\">\n",
       "  <thead>\n",
       "    <tr style=\"text-align: right;\">\n",
       "      <th></th>\n",
       "      <th>CreditScore</th>\n",
       "      <th>Age</th>\n",
       "      <th>Tenure</th>\n",
       "      <th>Balance</th>\n",
       "      <th>NumOfProducts</th>\n",
       "      <th>HasCrCard</th>\n",
       "      <th>IsActiveMember</th>\n",
       "      <th>EstimatedSalary</th>\n",
       "      <th>Exited</th>\n",
       "      <th>Geography_France</th>\n",
       "      <th>Geography_Germany</th>\n",
       "      <th>Gender_Female</th>\n",
       "    </tr>\n",
       "  </thead>\n",
       "  <tbody>\n",
       "    <tr>\n",
       "      <th>0</th>\n",
       "      <td>619</td>\n",
       "      <td>42</td>\n",
       "      <td>2</td>\n",
       "      <td>0.00</td>\n",
       "      <td>1</td>\n",
       "      <td>1</td>\n",
       "      <td>1</td>\n",
       "      <td>101348.88</td>\n",
       "      <td>1</td>\n",
       "      <td>1</td>\n",
       "      <td>0</td>\n",
       "      <td>1</td>\n",
       "    </tr>\n",
       "    <tr>\n",
       "      <th>1</th>\n",
       "      <td>608</td>\n",
       "      <td>41</td>\n",
       "      <td>1</td>\n",
       "      <td>83807.86</td>\n",
       "      <td>1</td>\n",
       "      <td>0</td>\n",
       "      <td>1</td>\n",
       "      <td>112542.58</td>\n",
       "      <td>0</td>\n",
       "      <td>0</td>\n",
       "      <td>0</td>\n",
       "      <td>1</td>\n",
       "    </tr>\n",
       "    <tr>\n",
       "      <th>2</th>\n",
       "      <td>502</td>\n",
       "      <td>42</td>\n",
       "      <td>8</td>\n",
       "      <td>159660.80</td>\n",
       "      <td>3</td>\n",
       "      <td>1</td>\n",
       "      <td>0</td>\n",
       "      <td>113931.57</td>\n",
       "      <td>1</td>\n",
       "      <td>1</td>\n",
       "      <td>0</td>\n",
       "      <td>1</td>\n",
       "    </tr>\n",
       "    <tr>\n",
       "      <th>3</th>\n",
       "      <td>699</td>\n",
       "      <td>39</td>\n",
       "      <td>1</td>\n",
       "      <td>0.00</td>\n",
       "      <td>2</td>\n",
       "      <td>0</td>\n",
       "      <td>0</td>\n",
       "      <td>93826.63</td>\n",
       "      <td>0</td>\n",
       "      <td>1</td>\n",
       "      <td>0</td>\n",
       "      <td>1</td>\n",
       "    </tr>\n",
       "    <tr>\n",
       "      <th>4</th>\n",
       "      <td>850</td>\n",
       "      <td>43</td>\n",
       "      <td>2</td>\n",
       "      <td>125510.82</td>\n",
       "      <td>1</td>\n",
       "      <td>1</td>\n",
       "      <td>1</td>\n",
       "      <td>79084.10</td>\n",
       "      <td>0</td>\n",
       "      <td>0</td>\n",
       "      <td>0</td>\n",
       "      <td>1</td>\n",
       "    </tr>\n",
       "  </tbody>\n",
       "</table>\n",
       "</div>"
      ],
      "text/plain": [
       "   CreditScore  Age  Tenure    Balance  NumOfProducts  HasCrCard  \\\n",
       "0          619   42       2       0.00              1          1   \n",
       "1          608   41       1   83807.86              1          0   \n",
       "2          502   42       8  159660.80              3          1   \n",
       "3          699   39       1       0.00              2          0   \n",
       "4          850   43       2  125510.82              1          1   \n",
       "\n",
       "   IsActiveMember  EstimatedSalary  Exited  Geography_France  \\\n",
       "0               1        101348.88       1                 1   \n",
       "1               1        112542.58       0                 0   \n",
       "2               0        113931.57       1                 1   \n",
       "3               0         93826.63       0                 1   \n",
       "4               1         79084.10       0                 0   \n",
       "\n",
       "   Geography_Germany  Gender_Female  \n",
       "0                  0              1  \n",
       "1                  0              1  \n",
       "2                  0              1  \n",
       "3                  0              1  \n",
       "4                  0              1  "
      ]
     },
     "execution_count": 42,
     "metadata": {},
     "output_type": "execute_result"
    }
   ],
   "source": [
    "dataset=dataset.drop(['Gender_Male','Geography_Spain'],1)\n",
    "dataset.head()"
   ]
  },
  {
   "cell_type": "code",
   "execution_count": 43,
   "metadata": {},
   "outputs": [],
   "source": [
    "x = dataset.drop(['Exited'],1)\n",
    "y = dataset['Exited']"
   ]
  },
  {
   "cell_type": "code",
   "execution_count": 44,
   "metadata": {},
   "outputs": [
    {
     "data": {
      "text/plain": [
       "0       1\n",
       "1       0\n",
       "2       1\n",
       "3       0\n",
       "4       0\n",
       "5       1\n",
       "6       0\n",
       "7       1\n",
       "8       0\n",
       "9       0\n",
       "10      0\n",
       "11      0\n",
       "12      0\n",
       "13      0\n",
       "14      0\n",
       "15      0\n",
       "16      1\n",
       "17      0\n",
       "18      0\n",
       "19      0\n",
       "20      0\n",
       "21      0\n",
       "22      1\n",
       "23      0\n",
       "24      0\n",
       "25      0\n",
       "26      0\n",
       "27      0\n",
       "28      0\n",
       "29      0\n",
       "       ..\n",
       "9970    0\n",
       "9971    0\n",
       "9972    0\n",
       "9973    0\n",
       "9974    0\n",
       "9975    1\n",
       "9976    0\n",
       "9977    0\n",
       "9978    0\n",
       "9979    0\n",
       "9980    0\n",
       "9981    1\n",
       "9982    1\n",
       "9983    0\n",
       "9984    0\n",
       "9985    0\n",
       "9986    0\n",
       "9987    0\n",
       "9988    0\n",
       "9989    0\n",
       "9990    0\n",
       "9991    1\n",
       "9992    0\n",
       "9993    0\n",
       "9994    0\n",
       "9995    0\n",
       "9996    0\n",
       "9997    1\n",
       "9998    1\n",
       "9999    0\n",
       "Name: Exited, Length: 10000, dtype: int64"
      ]
     },
     "execution_count": 44,
     "metadata": {},
     "output_type": "execute_result"
    }
   ],
   "source": [
    "y"
   ]
  },
  {
   "cell_type": "code",
   "execution_count": 45,
   "metadata": {},
   "outputs": [
    {
     "name": "stderr",
     "output_type": "stream",
     "text": [
      "C:\\Users\\Sarthak\\AppData\\Local\\Continuum\\anaconda3\\lib\\site-packages\\sklearn\\preprocessing\\data.py:625: DataConversionWarning: Data with input dtype uint8, int64, float64 were all converted to float64 by StandardScaler.\n",
      "  return self.partial_fit(X, y)\n",
      "C:\\Users\\Sarthak\\AppData\\Local\\Continuum\\anaconda3\\lib\\site-packages\\sklearn\\base.py:462: DataConversionWarning: Data with input dtype uint8, int64, float64 were all converted to float64 by StandardScaler.\n",
      "  return self.fit(X, **fit_params).transform(X)\n",
      "C:\\Users\\Sarthak\\AppData\\Local\\Continuum\\anaconda3\\lib\\site-packages\\ipykernel_launcher.py:10: DataConversionWarning: Data with input dtype uint8, int64, float64 were all converted to float64 by StandardScaler.\n",
      "  # Remove the CWD from sys.path while we load stuff.\n"
     ]
    }
   ],
   "source": [
    "\n",
    "# Splitting the dataset into the Training set and Test set\n",
    "from sklearn.model_selection import train_test_split\n",
    "x_train, x_test, y_train, y_test = train_test_split(x, y, test_size = 0.2, random_state = 0)\n",
    "\n",
    "# Feature Scaling\n",
    "from sklearn.preprocessing import StandardScaler\n",
    "sc = StandardScaler()\n",
    "x_train = sc.fit_transform(x_train)\n",
    "x_test = sc.transform(x_test)\n",
    "\n"
   ]
  },
  {
   "cell_type": "code",
   "execution_count": 46,
   "metadata": {},
   "outputs": [
    {
     "data": {
      "text/plain": [
       "(8000, 11)"
      ]
     },
     "execution_count": 46,
     "metadata": {},
     "output_type": "execute_result"
    }
   ],
   "source": [
    "x_train.shape"
   ]
  },
  {
   "cell_type": "code",
   "execution_count": 47,
   "metadata": {},
   "outputs": [],
   "source": [
    "import keras\n",
    "from keras.models import Sequential\n",
    "from keras.layers import Dense\n",
    "\n",
    "\n",
    "#Sequential --for initializing the neural network\n",
    "#Dense ---for drawing  layers of ann"
   ]
  },
  {
   "cell_type": "code",
   "execution_count": 48,
   "metadata": {},
   "outputs": [
    {
     "name": "stderr",
     "output_type": "stream",
     "text": [
      "C:\\Users\\Sarthak\\AppData\\Local\\Continuum\\anaconda3\\lib\\site-packages\\ipykernel_launcher.py:7: UserWarning: Update your `Dense` call to the Keras 2 API: `Dense(activation=\"relu\", input_dim=11, units=6, kernel_initializer=\"uniform\")`\n",
      "  import sys\n"
     ]
    }
   ],
   "source": [
    "classifier=Sequential()\n",
    "# i/p layer  and then hiddenlayer\n",
    "#selection of no of hidden layer is art but we take (no of i/p + no of o/p)/2\n",
    "#2nd para is how u assign the weight to the model ie through socastic gradient \n",
    "#3rd para is activation function\n",
    "#input_dim---caloumn nAMES\n",
    "classifier.add(Dense(output_dim=6,init='uniform',activation='relu',input_dim=11 ))"
   ]
  },
  {
   "cell_type": "code",
   "execution_count": 49,
   "metadata": {},
   "outputs": [
    {
     "name": "stderr",
     "output_type": "stream",
     "text": [
      "C:\\Users\\Sarthak\\AppData\\Local\\Continuum\\anaconda3\\lib\\site-packages\\ipykernel_launcher.py:2: UserWarning: Update your `Dense` call to the Keras 2 API: `Dense(activation=\"relu\", units=6, kernel_initializer=\"uniform\")`\n",
      "  \n",
      "C:\\Users\\Sarthak\\AppData\\Local\\Continuum\\anaconda3\\lib\\site-packages\\ipykernel_launcher.py:4: UserWarning: Update your `Dense` call to the Keras 2 API: `Dense(activation=\"sigmoid\", units=1, kernel_initializer=\"uniform\")`\n",
      "  after removing the cwd from sys.path.\n"
     ]
    },
    {
     "data": {
      "text/plain": [
       "'\\nIn case we have many categories of output we must change the output_dim to no of unique features of o/p variables  as o/p will be onehutencoded\\nand function to soft max to deal with multiple o/p\\n'"
      ]
     },
     "execution_count": 49,
     "metadata": {},
     "output_type": "execute_result"
    }
   ],
   "source": [
    "#add 2nd hidden layer\n",
    "classifier.add(Dense(output_dim=6,init='uniform',activation='relu'))\n",
    "#add output layer\n",
    "classifier.add(Dense(output_dim=1,init='uniform',activation='sigmoid'))\n",
    "# activation='sig'  becz we need to find prob\n",
    "'''\n",
    "In case we have many categories of output we must change the output_dim to no of unique features of o/p variables  as o/p will be onehutencoded\n",
    "and function to soft max to deal with multiple o/p\n",
    "'''"
   ]
  },
  {
   "cell_type": "code",
   "execution_count": 50,
   "metadata": {},
   "outputs": [],
   "source": [
    "'''\n",
    "we have only defined neural network ie weight has been initialized\n",
    "through this we update the optimal weight\n",
    "o/p has 2 category   loss function is 'binay_crossentropy'\n",
    "o/p has more than 2 category   loss function is 'categorial_crossentropy'\n",
    "'''\n",
    "#metric --calculate accuracy\n",
    "classifier.compile(optimizer='adam',\n",
    "                loss='binary_crossentropy',metrics=['accuracy'])"
   ]
  },
  {
   "cell_type": "code",
   "execution_count": 51,
   "metadata": {},
   "outputs": [
    {
     "name": "stderr",
     "output_type": "stream",
     "text": [
      "C:\\Users\\Sarthak\\AppData\\Local\\Continuum\\anaconda3\\lib\\site-packages\\ipykernel_launcher.py:1: UserWarning: The `nb_epoch` argument in `fit` has been renamed `epochs`.\n",
      "  \"\"\"Entry point for launching an IPython kernel.\n"
     ]
    },
    {
     "name": "stdout",
     "output_type": "stream",
     "text": [
      "Epoch 1/100\n",
      "8000/8000 [==============================] - 1s 138us/step - loss: 0.4816 - acc: 0.7960\n",
      "Epoch 2/100\n",
      "8000/8000 [==============================] - 1s 105us/step - loss: 0.4267 - acc: 0.7960\n",
      "Epoch 3/100\n",
      "8000/8000 [==============================] - 1s 109us/step - loss: 0.4203 - acc: 0.8059\n",
      "Epoch 4/100\n",
      "8000/8000 [==============================] - 1s 110us/step - loss: 0.4173 - acc: 0.8265\n",
      "Epoch 5/100\n",
      "8000/8000 [==============================] - 1s 101us/step - loss: 0.4152 - acc: 0.8289\n",
      "Epoch 6/100\n",
      "8000/8000 [==============================] - 1s 104us/step - loss: 0.4134 - acc: 0.8312\n",
      "Epoch 7/100\n",
      "8000/8000 [==============================] - 1s 107us/step - loss: 0.4123 - acc: 0.8325\n",
      "Epoch 8/100\n",
      "8000/8000 [==============================] - 1s 105us/step - loss: 0.4114 - acc: 0.8320\n",
      "Epoch 9/100\n",
      "8000/8000 [==============================] - 1s 104us/step - loss: 0.4100 - acc: 0.8325\n",
      "Epoch 10/100\n",
      "8000/8000 [==============================] - 1s 105us/step - loss: 0.4092 - acc: 0.8324\n",
      "Epoch 11/100\n",
      "8000/8000 [==============================] - 1s 115us/step - loss: 0.4088 - acc: 0.8331\n",
      "Epoch 12/100\n",
      "8000/8000 [==============================] - 1s 103us/step - loss: 0.4079 - acc: 0.8345\n",
      "Epoch 13/100\n",
      "8000/8000 [==============================] - 1s 104us/step - loss: 0.4073 - acc: 0.8349\n",
      "Epoch 14/100\n",
      "8000/8000 [==============================] - 1s 105us/step - loss: 0.4069 - acc: 0.8345\n",
      "Epoch 15/100\n",
      "8000/8000 [==============================] - 1s 105us/step - loss: 0.4061 - acc: 0.8346\n",
      "Epoch 16/100\n",
      "8000/8000 [==============================] - 1s 108us/step - loss: 0.4060 - acc: 0.8327\n",
      "Epoch 17/100\n",
      "8000/8000 [==============================] - 1s 104us/step - loss: 0.4051 - acc: 0.8342\n",
      "Epoch 18/100\n",
      "8000/8000 [==============================] - 1s 104us/step - loss: 0.4048 - acc: 0.8337\n",
      "Epoch 19/100\n",
      "8000/8000 [==============================] - 1s 104us/step - loss: 0.4045 - acc: 0.8331\n",
      "Epoch 20/100\n",
      "8000/8000 [==============================] - 1s 104us/step - loss: 0.4041 - acc: 0.8326\n",
      "Epoch 21/100\n",
      "8000/8000 [==============================] - 1s 106us/step - loss: 0.4037 - acc: 0.8345\n",
      "Epoch 22/100\n",
      "8000/8000 [==============================] - 1s 104us/step - loss: 0.4037 - acc: 0.8349 0s - loss: 0.4043 - acc:\n",
      "Epoch 23/100\n",
      "8000/8000 [==============================] - 1s 107us/step - loss: 0.4030 - acc: 0.8315\n",
      "Epoch 24/100\n",
      "8000/8000 [==============================] - 1s 113us/step - loss: 0.4032 - acc: 0.8331\n",
      "Epoch 25/100\n",
      "8000/8000 [==============================] - 1s 105us/step - loss: 0.4026 - acc: 0.8345\n",
      "Epoch 26/100\n",
      "8000/8000 [==============================] - 1s 105us/step - loss: 0.4024 - acc: 0.8334\n",
      "Epoch 27/100\n",
      "8000/8000 [==============================] - 1s 105us/step - loss: 0.4023 - acc: 0.8341\n",
      "Epoch 28/100\n",
      "8000/8000 [==============================] - 1s 106us/step - loss: 0.4020 - acc: 0.8331\n",
      "Epoch 29/100\n",
      "8000/8000 [==============================] - ETA: 0s - loss: 0.4036 - acc: 0.835 - 1s 104us/step - loss: 0.4016 - acc: 0.8356\n",
      "Epoch 30/100\n",
      "8000/8000 [==============================] - 1s 104us/step - loss: 0.4015 - acc: 0.8340\n",
      "Epoch 31/100\n",
      "8000/8000 [==============================] - 1s 105us/step - loss: 0.4026 - acc: 0.8332\n",
      "Epoch 32/100\n",
      "8000/8000 [==============================] - 1s 105us/step - loss: 0.4017 - acc: 0.8347\n",
      "Epoch 33/100\n",
      "8000/8000 [==============================] - 1s 106us/step - loss: 0.4020 - acc: 0.8346\n",
      "Epoch 34/100\n",
      "8000/8000 [==============================] - 1s 104us/step - loss: 0.4018 - acc: 0.8334\n",
      "Epoch 35/100\n",
      "8000/8000 [==============================] - 1s 102us/step - loss: 0.4010 - acc: 0.8354\n",
      "Epoch 36/100\n",
      "8000/8000 [==============================] - 1s 106us/step - loss: 0.4021 - acc: 0.8342\n",
      "Epoch 37/100\n",
      "8000/8000 [==============================] - 1s 105us/step - loss: 0.4018 - acc: 0.8340\n",
      "Epoch 38/100\n",
      "8000/8000 [==============================] - 1s 106us/step - loss: 0.4014 - acc: 0.8360\n",
      "Epoch 39/100\n",
      "8000/8000 [==============================] - 1s 106us/step - loss: 0.4013 - acc: 0.8350\n",
      "Epoch 40/100\n",
      "8000/8000 [==============================] - 1s 107us/step - loss: 0.4012 - acc: 0.8346\n",
      "Epoch 41/100\n",
      "8000/8000 [==============================] - 1s 105us/step - loss: 0.4009 - acc: 0.8345\n",
      "Epoch 42/100\n",
      "8000/8000 [==============================] - 1s 108us/step - loss: 0.4013 - acc: 0.8357\n",
      "Epoch 43/100\n",
      "8000/8000 [==============================] - 1s 103us/step - loss: 0.4018 - acc: 0.8350\n",
      "Epoch 44/100\n",
      "8000/8000 [==============================] - 1s 104us/step - loss: 0.4007 - acc: 0.8325\n",
      "Epoch 45/100\n",
      "8000/8000 [==============================] - 1s 104us/step - loss: 0.4014 - acc: 0.8325\n",
      "Epoch 46/100\n",
      "8000/8000 [==============================] - 1s 105us/step - loss: 0.4013 - acc: 0.8357\n",
      "Epoch 47/100\n",
      "8000/8000 [==============================] - 1s 106us/step - loss: 0.4012 - acc: 0.8346\n",
      "Epoch 48/100\n",
      "8000/8000 [==============================] - 1s 107us/step - loss: 0.4011 - acc: 0.8339\n",
      "Epoch 49/100\n",
      "8000/8000 [==============================] - 1s 104us/step - loss: 0.4010 - acc: 0.8347\n",
      "Epoch 50/100\n",
      "8000/8000 [==============================] - 1s 107us/step - loss: 0.4010 - acc: 0.8351\n",
      "Epoch 51/100\n",
      "8000/8000 [==============================] - 1s 107us/step - loss: 0.3998 - acc: 0.8356\n",
      "Epoch 52/100\n",
      "8000/8000 [==============================] - 1s 105us/step - loss: 0.4005 - acc: 0.8334\n",
      "Epoch 53/100\n",
      "8000/8000 [==============================] - 1s 106us/step - loss: 0.4011 - acc: 0.8349\n",
      "Epoch 54/100\n",
      "8000/8000 [==============================] - 1s 106us/step - loss: 0.4012 - acc: 0.8355\n",
      "Epoch 55/100\n",
      "8000/8000 [==============================] - 1s 104us/step - loss: 0.4008 - acc: 0.8359\n",
      "Epoch 56/100\n",
      "8000/8000 [==============================] - 1s 102us/step - loss: 0.4004 - acc: 0.8346\n",
      "Epoch 57/100\n",
      "8000/8000 [==============================] - 1s 102us/step - loss: 0.4007 - acc: 0.8336\n",
      "Epoch 58/100\n",
      "8000/8000 [==============================] - 1s 104us/step - loss: 0.4009 - acc: 0.8347\n",
      "Epoch 59/100\n",
      "8000/8000 [==============================] - 1s 103us/step - loss: 0.4007 - acc: 0.8349\n",
      "Epoch 60/100\n",
      "8000/8000 [==============================] - 1s 100us/step - loss: 0.4006 - acc: 0.8359\n",
      "Epoch 61/100\n",
      "8000/8000 [==============================] - ETA: 0s - loss: 0.4024 - acc: 0.833 - 1s 102us/step - loss: 0.4006 - acc: 0.8341\n",
      "Epoch 62/100\n",
      "8000/8000 [==============================] - 1s 104us/step - loss: 0.4006 - acc: 0.8356\n",
      "Epoch 63/100\n",
      "8000/8000 [==============================] - 1s 105us/step - loss: 0.4007 - acc: 0.8364\n",
      "Epoch 64/100\n",
      "8000/8000 [==============================] - 1s 106us/step - loss: 0.4009 - acc: 0.8355\n",
      "Epoch 65/100\n",
      "8000/8000 [==============================] - 1s 113us/step - loss: 0.4005 - acc: 0.8352\n",
      "Epoch 66/100\n",
      "8000/8000 [==============================] - 1s 108us/step - loss: 0.4001 - acc: 0.8370\n",
      "Epoch 67/100\n",
      "8000/8000 [==============================] - 1s 106us/step - loss: 0.4002 - acc: 0.8355\n",
      "Epoch 68/100\n",
      "8000/8000 [==============================] - 1s 109us/step - loss: 0.4008 - acc: 0.8354\n",
      "Epoch 69/100\n",
      "8000/8000 [==============================] - 1s 106us/step - loss: 0.4006 - acc: 0.8360\n",
      "Epoch 70/100\n",
      "8000/8000 [==============================] - 1s 114us/step - loss: 0.4001 - acc: 0.8344\n",
      "Epoch 71/100\n",
      "8000/8000 [==============================] - 1s 112us/step - loss: 0.3995 - acc: 0.8370\n",
      "Epoch 72/100\n",
      "8000/8000 [==============================] - 1s 107us/step - loss: 0.4003 - acc: 0.8352\n",
      "Epoch 73/100\n",
      "8000/8000 [==============================] - 1s 107us/step - loss: 0.4001 - acc: 0.8340\n",
      "Epoch 74/100\n",
      "8000/8000 [==============================] - 1s 104us/step - loss: 0.4003 - acc: 0.8334\n",
      "Epoch 75/100\n",
      "8000/8000 [==============================] - 1s 106us/step - loss: 0.4001 - acc: 0.8367\n",
      "Epoch 76/100\n",
      "8000/8000 [==============================] - 1s 107us/step - loss: 0.3998 - acc: 0.8359\n",
      "Epoch 77/100\n",
      "8000/8000 [==============================] - 1s 104us/step - loss: 0.4000 - acc: 0.8352\n",
      "Epoch 78/100\n",
      "8000/8000 [==============================] - 1s 106us/step - loss: 0.4001 - acc: 0.8351\n",
      "Epoch 79/100\n",
      "8000/8000 [==============================] - 1s 108us/step - loss: 0.3995 - acc: 0.8356\n",
      "Epoch 80/100\n",
      "8000/8000 [==============================] - 1s 110us/step - loss: 0.4000 - acc: 0.8347\n",
      "Epoch 81/100\n"
     ]
    },
    {
     "name": "stdout",
     "output_type": "stream",
     "text": [
      "8000/8000 [==============================] - 1s 101us/step - loss: 0.3999 - acc: 0.8347\n",
      "Epoch 82/100\n",
      "8000/8000 [==============================] - 1s 112us/step - loss: 0.4002 - acc: 0.8360\n",
      "Epoch 83/100\n",
      "8000/8000 [==============================] - 1s 104us/step - loss: 0.3998 - acc: 0.8332\n",
      "Epoch 84/100\n",
      "8000/8000 [==============================] - 1s 101us/step - loss: 0.4002 - acc: 0.8357\n",
      "Epoch 85/100\n",
      "8000/8000 [==============================] - 1s 107us/step - loss: 0.3997 - acc: 0.8350\n",
      "Epoch 86/100\n",
      "8000/8000 [==============================] - 1s 103us/step - loss: 0.3994 - acc: 0.8334\n",
      "Epoch 87/100\n",
      "8000/8000 [==============================] - 1s 102us/step - loss: 0.4003 - acc: 0.8351\n",
      "Epoch 88/100\n",
      "8000/8000 [==============================] - 1s 103us/step - loss: 0.3997 - acc: 0.8357\n",
      "Epoch 89/100\n",
      "8000/8000 [==============================] - 1s 103us/step - loss: 0.4004 - acc: 0.8354\n",
      "Epoch 90/100\n",
      "8000/8000 [==============================] - 1s 104us/step - loss: 0.4002 - acc: 0.8370\n",
      "Epoch 91/100\n",
      "8000/8000 [==============================] - 1s 103us/step - loss: 0.4000 - acc: 0.8354\n",
      "Epoch 92/100\n",
      "8000/8000 [==============================] - 1s 103us/step - loss: 0.3999 - acc: 0.8361\n",
      "Epoch 93/100\n",
      "8000/8000 [==============================] - 1s 103us/step - loss: 0.3998 - acc: 0.8361\n",
      "Epoch 94/100\n",
      "8000/8000 [==============================] - 1s 104us/step - loss: 0.4000 - acc: 0.8352\n",
      "Epoch 95/100\n",
      "8000/8000 [==============================] - 1s 104us/step - loss: 0.4000 - acc: 0.8351\n",
      "Epoch 96/100\n",
      "8000/8000 [==============================] - 1s 103us/step - loss: 0.3990 - acc: 0.8352\n",
      "Epoch 97/100\n",
      "8000/8000 [==============================] - 1s 105us/step - loss: 0.3999 - acc: 0.8369\n",
      "Epoch 98/100\n",
      "8000/8000 [==============================] - 1s 105us/step - loss: 0.3996 - acc: 0.8357\n",
      "Epoch 99/100\n",
      "8000/8000 [==============================] - 1s 102us/step - loss: 0.3997 - acc: 0.8364\n",
      "Epoch 100/100\n",
      "8000/8000 [==============================] - 1s 103us/step - loss: 0.3995 - acc: 0.8356\n"
     ]
    },
    {
     "data": {
      "text/plain": [
       "<keras.callbacks.History at 0x1d1762b0390>"
      ]
     },
     "execution_count": 51,
     "metadata": {},
     "output_type": "execute_result"
    }
   ],
   "source": [
    "classifier.fit(x_train,y_train,batch_size=10,nb_epoch=100)"
   ]
  },
  {
   "cell_type": "code",
   "execution_count": 52,
   "metadata": {},
   "outputs": [],
   "source": [
    "\n",
    "\n",
    "# Predicting the Test set results\n",
    "y_pred = classifier.predict(x_test)\n",
    "y_pred = (y_pred > 0.5)\n",
    "\n",
    "#y_pred contains prob whether customer will leave the bank or not\n",
    "#but cm takes only 0 or 1\n",
    "# Making the Confusion Matrix\n",
    "from sklearn.metrics import confusion_matrix\n",
    "cm = confusion_matrix(y_test, y_pred)"
   ]
  },
  {
   "cell_type": "code",
   "execution_count": 61,
   "metadata": {},
   "outputs": [
    {
     "data": {
      "text/plain": [
       "array([[1543,   52],\n",
       "       [ 273,  132]], dtype=int64)"
      ]
     },
     "execution_count": 61,
     "metadata": {},
     "output_type": "execute_result"
    }
   ],
   "source": [
    "cm"
   ]
  },
  {
   "cell_type": "code",
   "execution_count": 54,
   "metadata": {},
   "outputs": [
    {
     "data": {
      "text/html": [
       "<div>\n",
       "<style scoped>\n",
       "    .dataframe tbody tr th:only-of-type {\n",
       "        vertical-align: middle;\n",
       "    }\n",
       "\n",
       "    .dataframe tbody tr th {\n",
       "        vertical-align: top;\n",
       "    }\n",
       "\n",
       "    .dataframe thead th {\n",
       "        text-align: right;\n",
       "    }\n",
       "</style>\n",
       "<table border=\"1\" class=\"dataframe\">\n",
       "  <thead>\n",
       "    <tr style=\"text-align: right;\">\n",
       "      <th></th>\n",
       "      <th>CreditScore</th>\n",
       "      <th>Age</th>\n",
       "      <th>Tenure</th>\n",
       "      <th>Balance</th>\n",
       "      <th>NumOfProducts</th>\n",
       "      <th>HasCrCard</th>\n",
       "      <th>IsActiveMember</th>\n",
       "      <th>EstimatedSalary</th>\n",
       "      <th>Exited</th>\n",
       "      <th>Geography_France</th>\n",
       "      <th>Geography_Germany</th>\n",
       "      <th>Gender_Female</th>\n",
       "    </tr>\n",
       "  </thead>\n",
       "  <tbody>\n",
       "    <tr>\n",
       "      <th>0</th>\n",
       "      <td>619</td>\n",
       "      <td>42</td>\n",
       "      <td>2</td>\n",
       "      <td>0.00</td>\n",
       "      <td>1</td>\n",
       "      <td>1</td>\n",
       "      <td>1</td>\n",
       "      <td>101348.88</td>\n",
       "      <td>1</td>\n",
       "      <td>1</td>\n",
       "      <td>0</td>\n",
       "      <td>1</td>\n",
       "    </tr>\n",
       "    <tr>\n",
       "      <th>1</th>\n",
       "      <td>608</td>\n",
       "      <td>41</td>\n",
       "      <td>1</td>\n",
       "      <td>83807.86</td>\n",
       "      <td>1</td>\n",
       "      <td>0</td>\n",
       "      <td>1</td>\n",
       "      <td>112542.58</td>\n",
       "      <td>0</td>\n",
       "      <td>0</td>\n",
       "      <td>0</td>\n",
       "      <td>1</td>\n",
       "    </tr>\n",
       "    <tr>\n",
       "      <th>2</th>\n",
       "      <td>502</td>\n",
       "      <td>42</td>\n",
       "      <td>8</td>\n",
       "      <td>159660.80</td>\n",
       "      <td>3</td>\n",
       "      <td>1</td>\n",
       "      <td>0</td>\n",
       "      <td>113931.57</td>\n",
       "      <td>1</td>\n",
       "      <td>1</td>\n",
       "      <td>0</td>\n",
       "      <td>1</td>\n",
       "    </tr>\n",
       "    <tr>\n",
       "      <th>3</th>\n",
       "      <td>699</td>\n",
       "      <td>39</td>\n",
       "      <td>1</td>\n",
       "      <td>0.00</td>\n",
       "      <td>2</td>\n",
       "      <td>0</td>\n",
       "      <td>0</td>\n",
       "      <td>93826.63</td>\n",
       "      <td>0</td>\n",
       "      <td>1</td>\n",
       "      <td>0</td>\n",
       "      <td>1</td>\n",
       "    </tr>\n",
       "    <tr>\n",
       "      <th>4</th>\n",
       "      <td>850</td>\n",
       "      <td>43</td>\n",
       "      <td>2</td>\n",
       "      <td>125510.82</td>\n",
       "      <td>1</td>\n",
       "      <td>1</td>\n",
       "      <td>1</td>\n",
       "      <td>79084.10</td>\n",
       "      <td>0</td>\n",
       "      <td>0</td>\n",
       "      <td>0</td>\n",
       "      <td>1</td>\n",
       "    </tr>\n",
       "  </tbody>\n",
       "</table>\n",
       "</div>"
      ],
      "text/plain": [
       "   CreditScore  Age  Tenure    Balance  NumOfProducts  HasCrCard  \\\n",
       "0          619   42       2       0.00              1          1   \n",
       "1          608   41       1   83807.86              1          0   \n",
       "2          502   42       8  159660.80              3          1   \n",
       "3          699   39       1       0.00              2          0   \n",
       "4          850   43       2  125510.82              1          1   \n",
       "\n",
       "   IsActiveMember  EstimatedSalary  Exited  Geography_France  \\\n",
       "0               1        101348.88       1                 1   \n",
       "1               1        112542.58       0                 0   \n",
       "2               0        113931.57       1                 1   \n",
       "3               0         93826.63       0                 1   \n",
       "4               1         79084.10       0                 0   \n",
       "\n",
       "   Geography_Germany  Gender_Female  \n",
       "0                  0              1  \n",
       "1                  0              1  \n",
       "2                  0              1  \n",
       "3                  0              1  \n",
       "4                  0              1  "
      ]
     },
     "execution_count": 54,
     "metadata": {},
     "output_type": "execute_result"
    }
   ],
   "source": [
    "dataset.head()"
   ]
  },
  {
   "cell_type": "code",
   "execution_count": 60,
   "metadata": {},
   "outputs": [
    {
     "data": {
      "text/html": [
       "<div>\n",
       "<style scoped>\n",
       "    .dataframe tbody tr th:only-of-type {\n",
       "        vertical-align: middle;\n",
       "    }\n",
       "\n",
       "    .dataframe tbody tr th {\n",
       "        vertical-align: top;\n",
       "    }\n",
       "\n",
       "    .dataframe thead th {\n",
       "        text-align: right;\n",
       "    }\n",
       "</style>\n",
       "<table border=\"1\" class=\"dataframe\">\n",
       "  <thead>\n",
       "    <tr style=\"text-align: right;\">\n",
       "      <th></th>\n",
       "      <th>CreditScore</th>\n",
       "      <th>Age</th>\n",
       "      <th>Tenure</th>\n",
       "      <th>Balance</th>\n",
       "      <th>NumOfProducts</th>\n",
       "      <th>HasCrCard</th>\n",
       "      <th>IsActiveMember</th>\n",
       "      <th>EstimatedSalary</th>\n",
       "      <th>Geography_France</th>\n",
       "      <th>Geography_Germany</th>\n",
       "      <th>Gender_Female</th>\n",
       "    </tr>\n",
       "  </thead>\n",
       "  <tbody>\n",
       "    <tr>\n",
       "      <th>0</th>\n",
       "      <td>619</td>\n",
       "      <td>42</td>\n",
       "      <td>2</td>\n",
       "      <td>0.0</td>\n",
       "      <td>1</td>\n",
       "      <td>1</td>\n",
       "      <td>1</td>\n",
       "      <td>101348.88</td>\n",
       "      <td>1</td>\n",
       "      <td>0</td>\n",
       "      <td>1</td>\n",
       "    </tr>\n",
       "  </tbody>\n",
       "</table>\n",
       "</div>"
      ],
      "text/plain": [
       "   CreditScore  Age  Tenure  Balance  NumOfProducts  HasCrCard  \\\n",
       "0          619   42       2      0.0              1          1   \n",
       "\n",
       "   IsActiveMember  EstimatedSalary  Geography_France  Geography_Germany  \\\n",
       "0               1        101348.88                 1                  0   \n",
       "\n",
       "   Gender_Female  \n",
       "0              1  "
      ]
     },
     "execution_count": 60,
     "metadata": {},
     "output_type": "execute_result"
    }
   ],
   "source": [
    "x.head(1)"
   ]
  },
  {
   "cell_type": "code",
   "execution_count": 65,
   "metadata": {},
   "outputs": [],
   "source": [
    "new_prediction=classifier.predict(sc.transform(np.array([[ 600.0,40,\n",
    "            3,60000,2,1,1,50000,1,0,0 ]])))"
   ]
  },
  {
   "cell_type": "code",
   "execution_count": 66,
   "metadata": {},
   "outputs": [],
   "source": [
    " new_prediction=(new_prediction>0.5)"
   ]
  },
  {
   "cell_type": "code",
   "execution_count": 67,
   "metadata": {},
   "outputs": [
    {
     "data": {
      "text/plain": [
       "array([[False]])"
      ]
     },
     "execution_count": 67,
     "metadata": {},
     "output_type": "execute_result"
    }
   ],
   "source": [
    "new_prediction"
   ]
  },
  {
   "cell_type": "code",
   "execution_count": null,
   "metadata": {},
   "outputs": [],
   "source": []
  }
 ],
 "metadata": {
  "kernelspec": {
   "display_name": "Python 3",
   "language": "python",
   "name": "python3"
  },
  "language_info": {
   "codemirror_mode": {
    "name": "ipython",
    "version": 3
   },
   "file_extension": ".py",
   "mimetype": "text/x-python",
   "name": "python",
   "nbconvert_exporter": "python",
   "pygments_lexer": "ipython3",
   "version": "3.6.7"
  }
 },
 "nbformat": 4,
 "nbformat_minor": 2
}
